{
 "cells": [
  {
   "cell_type": "code",
   "execution_count": 11,
   "id": "857c06a3-43d0-40da-af20-c6bb07007231",
   "metadata": {},
   "outputs": [],
   "source": [
    "from sklearn.cluster import KMeans\n",
    "from sklearn.preprocessing import MultiLabelBinarizer, StandardScaler\n",
    "import pandas as pd\n",
    "import joblib\n",
    "import numpy as np\n",
    "import matplotlib.pyplot as plt\n",
    "import networkx as nx\n",
    "from collections import Counter, defaultdict\n",
    "import igraph as ig\n",
    "import leidenalg\n",
    "import random"
   ]
  },
  {
   "cell_type": "code",
   "execution_count": 13,
   "id": "13fa0d95-c4a0-4136-b3d4-1e2519680a6b",
   "metadata": {},
   "outputs": [],
   "source": [
    "# Set Pandas to display all columns\n",
    "pd.set_option(\"display.max_columns\", None)\n",
    "\n",
    "# 1. Loading data\n",
    "df = pd.read_csv(\"SocialMediaDataset.csv\")\n",
    "\n",
    "df_train = df.copy()\n",
    "\n",
    "# Data preprocessing: Convert the string of interest columns to a list\n",
    "_df = df_train.copy()\n",
    "_df['Interests'] = _df['Interests'].apply(lambda x: [i.strip().strip(\"'\") for i in x.split(',')])"
   ]
  },
  {
   "cell_type": "code",
   "execution_count": 14,
   "id": "f2966150-7a47-45bd-a5b1-9f22907d46be",
   "metadata": {},
   "outputs": [],
   "source": [
    "# 2. \n",
    "B = nx.Graph()\n",
    "\n",
    "# Add user nodes and interest nodes, and establish user-interest connections\n",
    "for _, row in _df.iterrows():\n",
    "    user_id = row['UserID']\n",
    "    B.add_node(user_id, bipartite=0)  # User Node\n",
    "    for interest in row['Interests']:\n",
    "        B.add_node(interest, bipartite=1)  # Interest Nodes\n",
    "        B.add_edge(user_id, interest)\n",
    "\n",
    "# Extract the list of user nodes\n",
    "user_nodes = [n for n, d in B.nodes(data=True) if d['bipartite'] == 0]"
   ]
  },
  {
   "cell_type": "code",
   "execution_count": 15,
   "id": "816db8a4-f559-44c6-8066-70ab4e15540e",
   "metadata": {},
   "outputs": [],
   "source": [
    "# 3. User-user weighted projection graph\n",
    "user_graph = nx.bipartite.weighted_projected_graph(B, user_nodes)"
   ]
  },
  {
   "cell_type": "code",
   "execution_count": 16,
   "id": "af320f76-b384-46f5-8301-0278b796fb25",
   "metadata": {},
   "outputs": [],
   "source": [
    "# 4. The Leiden algorithm is used for community detection\n",
    "edges = [(u, v, d['weight']) for u, v, d in user_graph.edges(data=True)]\n",
    "G_ig = ig.Graph.TupleList(edges, weights=True, directed=False)\n",
    "\n",
    "# Leiden clustering is performed using modularity optimization\n",
    "partition = leidenalg.find_partition(G_ig, leidenalg.ModularityVertexPartition)\n",
    "\n",
    "# Create the mapping from the user ID to the clustering ID\n",
    "leiden_partition = {}\n",
    "for cluster_id, cluster_nodes in enumerate(partition):\n",
    "    for node_index in cluster_nodes:\n",
    "        user_id = G_ig.vs[node_index]['name']\n",
    "        leiden_partition[user_id] = cluster_id"
   ]
  },
  {
   "cell_type": "code",
   "execution_count": 17,
   "id": "cf0dbe00-ad7a-4ab3-8274-0afce39d72dd",
   "metadata": {},
   "outputs": [],
   "source": [
    "# 5. Add the clustering labels to the data frame\n",
    "_df['Cluster'] = _df['UserID'].map(leiden_partition)"
   ]
  },
  {
   "cell_type": "code",
   "execution_count": 18,
   "id": "d2d9ed49-a343-4787-a800-847dcb5791cd",
   "metadata": {},
   "outputs": [
    {
     "name": "stdout",
     "output_type": "stream",
     "text": [
      "   UserID             Name Gender         DOB  \\\n",
      "0   75722      Kevin Tabor   Male    1962/9/2   \n",
      "1   80185  Bethany Buckley   Male   1983/7/28   \n",
      "2   19865     Marsha Ayala   Male  1958/12/18   \n",
      "3   76700     Sheryl Hower   Male   1964/4/12   \n",
      "4   92992    Robin Garrett   Male  1975/11/26   \n",
      "\n",
      "                                       Interests       City  \\\n",
      "0                 [Nature, Parenting and family]  Liverpool   \n",
      "1                [Business and entrepreneurship]  Stockport   \n",
      "2  [Fashion, DIY and crafts, Outdoor activities]     Bolton   \n",
      "3                [Business and entrepreneurship]  Stockport   \n",
      "4                                       [Travel]  Liverpool   \n",
      "\n",
      "                  Occupation  Budget  Age Age Range  Cluster  \\\n",
      "0            Project Manager    6376   63     56-65        6   \n",
      "1               Data Analyst    4205   42     36-45        2   \n",
      "2                    Cleaner    2725   67       66+        1   \n",
      "3  Quality Assurance Analyst    4556   61     56-65        2   \n",
      "4                    Barista    2322   50     46-55        7   \n",
      "\n",
      "                               Cluster_tag  \n",
      "0                           Nature & Music  \n",
      "1  Business and entrepreneurship & Cooking  \n",
      "2                        Fashion & Cooking  \n",
      "3  Business and entrepreneurship & Cooking  \n",
      "4                          Travel & Movies  \n"
     ]
    }
   ],
   "source": [
    "# 6. Generate labels (most common interests) for each cluster\n",
    "top_n = 2\n",
    "cluster_interests = defaultdict(list)\n",
    "for _, row in _df.iterrows():\n",
    "    cluster = row['Cluster']\n",
    "    interests = row['Interests']\n",
    "    if cluster is not None:\n",
    "        cluster_interests[cluster].extend(interests)\n",
    "\n",
    "cluster_tags = {cluster: \" & \".join([i[0] for i in Counter(interests).most_common(top_n)]) for cluster, interests in cluster_interests.items()}\n",
    "\n",
    "# Add the clustering labels to the data frame\n",
    "_df['Cluster_tag'] = _df['Cluster'].map(cluster_tags)\n",
    "\n",
    "# Sample\n",
    "print(_df.head())"
   ]
  },
  {
   "cell_type": "code",
   "execution_count": 28,
   "id": "a31031b3-3a5b-45f1-970f-b2b7c7b5bc50",
   "metadata": {},
   "outputs": [
    {
     "name": "stderr",
     "output_type": "stream",
     "text": [
      "C:\\Users\\Administrator1\\.conda\\envs\\AD\\Lib\\site-packages\\sklearn\\cluster\\_kmeans.py:1419: UserWarning: KMeans is known to have a memory leak on Windows with MKL, when there are less chunks than available threads. You can avoid it by setting the environment variable OMP_NUM_THREADS=3.\n",
      "  warnings.warn(\n",
      "C:\\Users\\Administrator1\\.conda\\envs\\AD\\Lib\\site-packages\\sklearn\\cluster\\_kmeans.py:1419: UserWarning: KMeans is known to have a memory leak on Windows with MKL, when there are less chunks than available threads. You can avoid it by setting the environment variable OMP_NUM_THREADS=3.\n",
      "  warnings.warn(\n",
      "C:\\Users\\Administrator1\\.conda\\envs\\AD\\Lib\\site-packages\\sklearn\\cluster\\_kmeans.py:1419: UserWarning: KMeans is known to have a memory leak on Windows with MKL, when there are less chunks than available threads. You can avoid it by setting the environment variable OMP_NUM_THREADS=3.\n",
      "  warnings.warn(\n",
      "C:\\Users\\Administrator1\\.conda\\envs\\AD\\Lib\\site-packages\\sklearn\\cluster\\_kmeans.py:1419: UserWarning: KMeans is known to have a memory leak on Windows with MKL, when there are less chunks than available threads. You can avoid it by setting the environment variable OMP_NUM_THREADS=3.\n",
      "  warnings.warn(\n",
      "C:\\Users\\Administrator1\\.conda\\envs\\AD\\Lib\\site-packages\\sklearn\\cluster\\_kmeans.py:1419: UserWarning: KMeans is known to have a memory leak on Windows with MKL, when there are less chunks than available threads. You can avoid it by setting the environment variable OMP_NUM_THREADS=3.\n",
      "  warnings.warn(\n",
      "C:\\Users\\Administrator1\\.conda\\envs\\AD\\Lib\\site-packages\\sklearn\\cluster\\_kmeans.py:1419: UserWarning: KMeans is known to have a memory leak on Windows with MKL, when there are less chunks than available threads. You can avoid it by setting the environment variable OMP_NUM_THREADS=3.\n",
      "  warnings.warn(\n",
      "C:\\Users\\Administrator1\\.conda\\envs\\AD\\Lib\\site-packages\\sklearn\\cluster\\_kmeans.py:1419: UserWarning: KMeans is known to have a memory leak on Windows with MKL, when there are less chunks than available threads. You can avoid it by setting the environment variable OMP_NUM_THREADS=3.\n",
      "  warnings.warn(\n",
      "C:\\Users\\Administrator1\\.conda\\envs\\AD\\Lib\\site-packages\\sklearn\\cluster\\_kmeans.py:1419: UserWarning: KMeans is known to have a memory leak on Windows with MKL, when there are less chunks than available threads. You can avoid it by setting the environment variable OMP_NUM_THREADS=3.\n",
      "  warnings.warn(\n",
      "C:\\Users\\Administrator1\\.conda\\envs\\AD\\Lib\\site-packages\\sklearn\\cluster\\_kmeans.py:1419: UserWarning: KMeans is known to have a memory leak on Windows with MKL, when there are less chunks than available threads. You can avoid it by setting the environment variable OMP_NUM_THREADS=3.\n",
      "  warnings.warn(\n",
      "C:\\Users\\Administrator1\\.conda\\envs\\AD\\Lib\\site-packages\\sklearn\\cluster\\_kmeans.py:1419: UserWarning: KMeans is known to have a memory leak on Windows with MKL, when there are less chunks than available threads. You can avoid it by setting the environment variable OMP_NUM_THREADS=3.\n",
      "  warnings.warn(\n",
      "C:\\Users\\Administrator1\\.conda\\envs\\AD\\Lib\\site-packages\\sklearn\\cluster\\_kmeans.py:1419: UserWarning: KMeans is known to have a memory leak on Windows with MKL, when there are less chunks than available threads. You can avoid it by setting the environment variable OMP_NUM_THREADS=7.\n",
      "  warnings.warn(\n",
      "C:\\Users\\Administrator1\\.conda\\envs\\AD\\Lib\\site-packages\\sklearn\\cluster\\_kmeans.py:1419: UserWarning: KMeans is known to have a memory leak on Windows with MKL, when there are less chunks than available threads. You can avoid it by setting the environment variable OMP_NUM_THREADS=7.\n",
      "  warnings.warn(\n"
     ]
    },
    {
     "name": "stdout",
     "output_type": "stream",
     "text": [
      "Cluster 6.1 - Avg Age: 60.0, Avg Budget: 3992.8\n",
      "Cluster 6.2 - Avg Age: 31.9, Avg Budget: 3789.6\n",
      "Cluster 6.3 - Avg Age: 42.3, Avg Budget: 6376.3\n"
     ]
    },
    {
     "name": "stderr",
     "output_type": "stream",
     "text": [
      "C:\\Users\\Administrator1\\.conda\\envs\\AD\\Lib\\site-packages\\sklearn\\cluster\\_kmeans.py:1419: UserWarning: KMeans is known to have a memory leak on Windows with MKL, when there are less chunks than available threads. You can avoid it by setting the environment variable OMP_NUM_THREADS=7.\n",
      "  warnings.warn(\n",
      "C:\\Users\\Administrator1\\.conda\\envs\\AD\\Lib\\site-packages\\sklearn\\cluster\\_kmeans.py:1419: UserWarning: KMeans is known to have a memory leak on Windows with MKL, when there are less chunks than available threads. You can avoid it by setting the environment variable OMP_NUM_THREADS=7.\n",
      "  warnings.warn(\n",
      "C:\\Users\\Administrator1\\.conda\\envs\\AD\\Lib\\site-packages\\sklearn\\cluster\\_kmeans.py:1419: UserWarning: KMeans is known to have a memory leak on Windows with MKL, when there are less chunks than available threads. You can avoid it by setting the environment variable OMP_NUM_THREADS=7.\n",
      "  warnings.warn(\n",
      "C:\\Users\\Administrator1\\.conda\\envs\\AD\\Lib\\site-packages\\sklearn\\cluster\\_kmeans.py:1419: UserWarning: KMeans is known to have a memory leak on Windows with MKL, when there are less chunks than available threads. You can avoid it by setting the environment variable OMP_NUM_THREADS=7.\n",
      "  warnings.warn(\n",
      "C:\\Users\\Administrator1\\.conda\\envs\\AD\\Lib\\site-packages\\sklearn\\cluster\\_kmeans.py:1419: UserWarning: KMeans is known to have a memory leak on Windows with MKL, when there are less chunks than available threads. You can avoid it by setting the environment variable OMP_NUM_THREADS=7.\n",
      "  warnings.warn(\n",
      "C:\\Users\\Administrator1\\.conda\\envs\\AD\\Lib\\site-packages\\sklearn\\cluster\\_kmeans.py:1419: UserWarning: KMeans is known to have a memory leak on Windows with MKL, when there are less chunks than available threads. You can avoid it by setting the environment variable OMP_NUM_THREADS=7.\n",
      "  warnings.warn(\n",
      "C:\\Users\\Administrator1\\.conda\\envs\\AD\\Lib\\site-packages\\sklearn\\cluster\\_kmeans.py:1419: UserWarning: KMeans is known to have a memory leak on Windows with MKL, when there are less chunks than available threads. You can avoid it by setting the environment variable OMP_NUM_THREADS=7.\n",
      "  warnings.warn(\n",
      "C:\\Users\\Administrator1\\.conda\\envs\\AD\\Lib\\site-packages\\sklearn\\cluster\\_kmeans.py:1419: UserWarning: KMeans is known to have a memory leak on Windows with MKL, when there are less chunks than available threads. You can avoid it by setting the environment variable OMP_NUM_THREADS=7.\n",
      "  warnings.warn(\n",
      "C:\\Users\\Administrator1\\.conda\\envs\\AD\\Lib\\site-packages\\sklearn\\cluster\\_kmeans.py:1419: UserWarning: KMeans is known to have a memory leak on Windows with MKL, when there are less chunks than available threads. You can avoid it by setting the environment variable OMP_NUM_THREADS=8.\n",
      "  warnings.warn(\n"
     ]
    },
    {
     "name": "stdout",
     "output_type": "stream",
     "text": [
      "Cluster 2.1 - Avg Age: 43.9, Avg Budget: 6743.3\n",
      "Cluster 2.2 - Avg Age: 32.7, Avg Budget: 3932.0\n",
      "Cluster 2.3 - Avg Age: 59.6, Avg Budget: 4175.7\n"
     ]
    },
    {
     "name": "stderr",
     "output_type": "stream",
     "text": [
      "C:\\Users\\Administrator1\\.conda\\envs\\AD\\Lib\\site-packages\\sklearn\\cluster\\_kmeans.py:1419: UserWarning: KMeans is known to have a memory leak on Windows with MKL, when there are less chunks than available threads. You can avoid it by setting the environment variable OMP_NUM_THREADS=8.\n",
      "  warnings.warn(\n",
      "C:\\Users\\Administrator1\\.conda\\envs\\AD\\Lib\\site-packages\\sklearn\\cluster\\_kmeans.py:1419: UserWarning: KMeans is known to have a memory leak on Windows with MKL, when there are less chunks than available threads. You can avoid it by setting the environment variable OMP_NUM_THREADS=8.\n",
      "  warnings.warn(\n",
      "C:\\Users\\Administrator1\\.conda\\envs\\AD\\Lib\\site-packages\\sklearn\\cluster\\_kmeans.py:1419: UserWarning: KMeans is known to have a memory leak on Windows with MKL, when there are less chunks than available threads. You can avoid it by setting the environment variable OMP_NUM_THREADS=8.\n",
      "  warnings.warn(\n",
      "C:\\Users\\Administrator1\\.conda\\envs\\AD\\Lib\\site-packages\\sklearn\\cluster\\_kmeans.py:1419: UserWarning: KMeans is known to have a memory leak on Windows with MKL, when there are less chunks than available threads. You can avoid it by setting the environment variable OMP_NUM_THREADS=8.\n",
      "  warnings.warn(\n",
      "C:\\Users\\Administrator1\\.conda\\envs\\AD\\Lib\\site-packages\\sklearn\\cluster\\_kmeans.py:1419: UserWarning: KMeans is known to have a memory leak on Windows with MKL, when there are less chunks than available threads. You can avoid it by setting the environment variable OMP_NUM_THREADS=8.\n",
      "  warnings.warn(\n",
      "C:\\Users\\Administrator1\\.conda\\envs\\AD\\Lib\\site-packages\\sklearn\\cluster\\_kmeans.py:1419: UserWarning: KMeans is known to have a memory leak on Windows with MKL, when there are less chunks than available threads. You can avoid it by setting the environment variable OMP_NUM_THREADS=8.\n",
      "  warnings.warn(\n",
      "C:\\Users\\Administrator1\\.conda\\envs\\AD\\Lib\\site-packages\\sklearn\\cluster\\_kmeans.py:1419: UserWarning: KMeans is known to have a memory leak on Windows with MKL, when there are less chunks than available threads. You can avoid it by setting the environment variable OMP_NUM_THREADS=8.\n",
      "  warnings.warn(\n",
      "C:\\Users\\Administrator1\\.conda\\envs\\AD\\Lib\\site-packages\\sklearn\\cluster\\_kmeans.py:1419: UserWarning: KMeans is known to have a memory leak on Windows with MKL, when there are less chunks than available threads. You can avoid it by setting the environment variable OMP_NUM_THREADS=8.\n",
      "  warnings.warn(\n",
      "C:\\Users\\Administrator1\\.conda\\envs\\AD\\Lib\\site-packages\\sklearn\\cluster\\_kmeans.py:1419: UserWarning: KMeans is known to have a memory leak on Windows with MKL, when there are less chunks than available threads. You can avoid it by setting the environment variable OMP_NUM_THREADS=8.\n",
      "  warnings.warn(\n",
      "C:\\Users\\Administrator1\\.conda\\envs\\AD\\Lib\\site-packages\\sklearn\\cluster\\_kmeans.py:1419: UserWarning: KMeans is known to have a memory leak on Windows with MKL, when there are less chunks than available threads. You can avoid it by setting the environment variable OMP_NUM_THREADS=3.\n",
      "  warnings.warn(\n",
      "C:\\Users\\Administrator1\\.conda\\envs\\AD\\Lib\\site-packages\\sklearn\\cluster\\_kmeans.py:1419: UserWarning: KMeans is known to have a memory leak on Windows with MKL, when there are less chunks than available threads. You can avoid it by setting the environment variable OMP_NUM_THREADS=3.\n",
      "  warnings.warn(\n",
      "C:\\Users\\Administrator1\\.conda\\envs\\AD\\Lib\\site-packages\\sklearn\\cluster\\_kmeans.py:1419: UserWarning: KMeans is known to have a memory leak on Windows with MKL, when there are less chunks than available threads. You can avoid it by setting the environment variable OMP_NUM_THREADS=3.\n",
      "  warnings.warn(\n",
      "C:\\Users\\Administrator1\\.conda\\envs\\AD\\Lib\\site-packages\\sklearn\\cluster\\_kmeans.py:1419: UserWarning: KMeans is known to have a memory leak on Windows with MKL, when there are less chunks than available threads. You can avoid it by setting the environment variable OMP_NUM_THREADS=3.\n",
      "  warnings.warn(\n",
      "C:\\Users\\Administrator1\\.conda\\envs\\AD\\Lib\\site-packages\\sklearn\\cluster\\_kmeans.py:1419: UserWarning: KMeans is known to have a memory leak on Windows with MKL, when there are less chunks than available threads. You can avoid it by setting the environment variable OMP_NUM_THREADS=3.\n",
      "  warnings.warn(\n",
      "C:\\Users\\Administrator1\\.conda\\envs\\AD\\Lib\\site-packages\\sklearn\\cluster\\_kmeans.py:1419: UserWarning: KMeans is known to have a memory leak on Windows with MKL, when there are less chunks than available threads. You can avoid it by setting the environment variable OMP_NUM_THREADS=3.\n",
      "  warnings.warn(\n",
      "C:\\Users\\Administrator1\\.conda\\envs\\AD\\Lib\\site-packages\\sklearn\\cluster\\_kmeans.py:1419: UserWarning: KMeans is known to have a memory leak on Windows with MKL, when there are less chunks than available threads. You can avoid it by setting the environment variable OMP_NUM_THREADS=3.\n",
      "  warnings.warn(\n",
      "C:\\Users\\Administrator1\\.conda\\envs\\AD\\Lib\\site-packages\\sklearn\\cluster\\_kmeans.py:1419: UserWarning: KMeans is known to have a memory leak on Windows with MKL, when there are less chunks than available threads. You can avoid it by setting the environment variable OMP_NUM_THREADS=3.\n",
      "  warnings.warn(\n",
      "C:\\Users\\Administrator1\\.conda\\envs\\AD\\Lib\\site-packages\\sklearn\\cluster\\_kmeans.py:1419: UserWarning: KMeans is known to have a memory leak on Windows with MKL, when there are less chunks than available threads. You can avoid it by setting the environment variable OMP_NUM_THREADS=3.\n",
      "  warnings.warn(\n",
      "C:\\Users\\Administrator1\\.conda\\envs\\AD\\Lib\\site-packages\\sklearn\\cluster\\_kmeans.py:1419: UserWarning: KMeans is known to have a memory leak on Windows with MKL, when there are less chunks than available threads. You can avoid it by setting the environment variable OMP_NUM_THREADS=3.\n",
      "  warnings.warn(\n",
      "C:\\Users\\Administrator1\\.conda\\envs\\AD\\Lib\\site-packages\\sklearn\\cluster\\_kmeans.py:1419: UserWarning: KMeans is known to have a memory leak on Windows with MKL, when there are less chunks than available threads. You can avoid it by setting the environment variable OMP_NUM_THREADS=11.\n",
      "  warnings.warn(\n"
     ]
    },
    {
     "name": "stdout",
     "output_type": "stream",
     "text": [
      "Cluster 1.1 - Avg Age: 32.7, Avg Budget: 3565.0\n",
      "Cluster 1.2 - Avg Age: 59.2, Avg Budget: 5916.1\n",
      "Cluster 1.3 - Avg Age: 46.4, Avg Budget: 9588.0\n",
      "Cluster 1.4 - Avg Age: 33.3, Avg Budget: 5915.2\n",
      "Cluster 1.5 - Avg Age: 58.0, Avg Budget: 3560.1\n",
      "Cluster 7.1 - Avg Age: 58.8, Avg Budget: 3605.3\n",
      "Cluster 7.2 - Avg Age: 32.8, Avg Budget: 5720.0\n",
      "Cluster 7.3 - Avg Age: 33.3, Avg Budget: 3372.9\n",
      "Cluster 7.4 - Avg Age: 60.2, Avg Budget: 6508.0\n"
     ]
    },
    {
     "name": "stderr",
     "output_type": "stream",
     "text": [
      "C:\\Users\\Administrator1\\.conda\\envs\\AD\\Lib\\site-packages\\sklearn\\cluster\\_kmeans.py:1419: UserWarning: KMeans is known to have a memory leak on Windows with MKL, when there are less chunks than available threads. You can avoid it by setting the environment variable OMP_NUM_THREADS=11.\n",
      "  warnings.warn(\n",
      "C:\\Users\\Administrator1\\.conda\\envs\\AD\\Lib\\site-packages\\sklearn\\cluster\\_kmeans.py:1419: UserWarning: KMeans is known to have a memory leak on Windows with MKL, when there are less chunks than available threads. You can avoid it by setting the environment variable OMP_NUM_THREADS=11.\n",
      "  warnings.warn(\n",
      "C:\\Users\\Administrator1\\.conda\\envs\\AD\\Lib\\site-packages\\sklearn\\cluster\\_kmeans.py:1419: UserWarning: KMeans is known to have a memory leak on Windows with MKL, when there are less chunks than available threads. You can avoid it by setting the environment variable OMP_NUM_THREADS=11.\n",
      "  warnings.warn(\n",
      "C:\\Users\\Administrator1\\.conda\\envs\\AD\\Lib\\site-packages\\sklearn\\cluster\\_kmeans.py:1419: UserWarning: KMeans is known to have a memory leak on Windows with MKL, when there are less chunks than available threads. You can avoid it by setting the environment variable OMP_NUM_THREADS=11.\n",
      "  warnings.warn(\n",
      "C:\\Users\\Administrator1\\.conda\\envs\\AD\\Lib\\site-packages\\sklearn\\cluster\\_kmeans.py:1419: UserWarning: KMeans is known to have a memory leak on Windows with MKL, when there are less chunks than available threads. You can avoid it by setting the environment variable OMP_NUM_THREADS=11.\n",
      "  warnings.warn(\n",
      "C:\\Users\\Administrator1\\.conda\\envs\\AD\\Lib\\site-packages\\sklearn\\cluster\\_kmeans.py:1419: UserWarning: KMeans is known to have a memory leak on Windows with MKL, when there are less chunks than available threads. You can avoid it by setting the environment variable OMP_NUM_THREADS=11.\n",
      "  warnings.warn(\n",
      "C:\\Users\\Administrator1\\.conda\\envs\\AD\\Lib\\site-packages\\sklearn\\cluster\\_kmeans.py:1419: UserWarning: KMeans is known to have a memory leak on Windows with MKL, when there are less chunks than available threads. You can avoid it by setting the environment variable OMP_NUM_THREADS=11.\n",
      "  warnings.warn(\n",
      "C:\\Users\\Administrator1\\.conda\\envs\\AD\\Lib\\site-packages\\sklearn\\cluster\\_kmeans.py:1419: UserWarning: KMeans is known to have a memory leak on Windows with MKL, when there are less chunks than available threads. You can avoid it by setting the environment variable OMP_NUM_THREADS=11.\n",
      "  warnings.warn(\n",
      "C:\\Users\\Administrator1\\.conda\\envs\\AD\\Lib\\site-packages\\sklearn\\cluster\\_kmeans.py:1419: UserWarning: KMeans is known to have a memory leak on Windows with MKL, when there are less chunks than available threads. You can avoid it by setting the environment variable OMP_NUM_THREADS=11.\n",
      "  warnings.warn(\n",
      "C:\\Users\\Administrator1\\.conda\\envs\\AD\\Lib\\site-packages\\sklearn\\cluster\\_kmeans.py:1419: UserWarning: KMeans is known to have a memory leak on Windows with MKL, when there are less chunks than available threads. You can avoid it by setting the environment variable OMP_NUM_THREADS=4.\n",
      "  warnings.warn(\n",
      "C:\\Users\\Administrator1\\.conda\\envs\\AD\\Lib\\site-packages\\sklearn\\cluster\\_kmeans.py:1419: UserWarning: KMeans is known to have a memory leak on Windows with MKL, when there are less chunks than available threads. You can avoid it by setting the environment variable OMP_NUM_THREADS=4.\n",
      "  warnings.warn(\n",
      "C:\\Users\\Administrator1\\.conda\\envs\\AD\\Lib\\site-packages\\sklearn\\cluster\\_kmeans.py:1419: UserWarning: KMeans is known to have a memory leak on Windows with MKL, when there are less chunks than available threads. You can avoid it by setting the environment variable OMP_NUM_THREADS=4.\n",
      "  warnings.warn(\n",
      "C:\\Users\\Administrator1\\.conda\\envs\\AD\\Lib\\site-packages\\sklearn\\cluster\\_kmeans.py:1419: UserWarning: KMeans is known to have a memory leak on Windows with MKL, when there are less chunks than available threads. You can avoid it by setting the environment variable OMP_NUM_THREADS=4.\n",
      "  warnings.warn(\n"
     ]
    },
    {
     "name": "stdout",
     "output_type": "stream",
     "text": [
      "Cluster 0.1 - Avg Age: 60.0, Avg Budget: 4020.0\n",
      "Cluster 0.2 - Avg Age: 45.9, Avg Budget: 6780.6\n",
      "Cluster 0.3 - Avg Age: 32.9, Avg Budget: 4042.3\n",
      "Cluster 4.1 - Avg Age: 31.0, Avg Budget: 4577.4\n",
      "Cluster 4.2 - Avg Age: 53.1, Avg Budget: 6977.6\n",
      "Cluster 4.3 - Avg Age: 56.9, Avg Budget: 3703.1\n"
     ]
    },
    {
     "name": "stderr",
     "output_type": "stream",
     "text": [
      "C:\\Users\\Administrator1\\.conda\\envs\\AD\\Lib\\site-packages\\sklearn\\cluster\\_kmeans.py:1419: UserWarning: KMeans is known to have a memory leak on Windows with MKL, when there are less chunks than available threads. You can avoid it by setting the environment variable OMP_NUM_THREADS=4.\n",
      "  warnings.warn(\n",
      "C:\\Users\\Administrator1\\.conda\\envs\\AD\\Lib\\site-packages\\sklearn\\cluster\\_kmeans.py:1419: UserWarning: KMeans is known to have a memory leak on Windows with MKL, when there are less chunks than available threads. You can avoid it by setting the environment variable OMP_NUM_THREADS=4.\n",
      "  warnings.warn(\n",
      "C:\\Users\\Administrator1\\.conda\\envs\\AD\\Lib\\site-packages\\sklearn\\cluster\\_kmeans.py:1419: UserWarning: KMeans is known to have a memory leak on Windows with MKL, when there are less chunks than available threads. You can avoid it by setting the environment variable OMP_NUM_THREADS=4.\n",
      "  warnings.warn(\n",
      "C:\\Users\\Administrator1\\.conda\\envs\\AD\\Lib\\site-packages\\sklearn\\cluster\\_kmeans.py:1419: UserWarning: KMeans is known to have a memory leak on Windows with MKL, when there are less chunks than available threads. You can avoid it by setting the environment variable OMP_NUM_THREADS=4.\n",
      "  warnings.warn(\n",
      "C:\\Users\\Administrator1\\.conda\\envs\\AD\\Lib\\site-packages\\sklearn\\cluster\\_kmeans.py:1419: UserWarning: KMeans is known to have a memory leak on Windows with MKL, when there are less chunks than available threads. You can avoid it by setting the environment variable OMP_NUM_THREADS=4.\n",
      "  warnings.warn(\n",
      "C:\\Users\\Administrator1\\.conda\\envs\\AD\\Lib\\site-packages\\sklearn\\cluster\\_kmeans.py:1419: UserWarning: KMeans is known to have a memory leak on Windows with MKL, when there are less chunks than available threads. You can avoid it by setting the environment variable OMP_NUM_THREADS=4.\n",
      "  warnings.warn(\n",
      "C:\\Users\\Administrator1\\.conda\\envs\\AD\\Lib\\site-packages\\sklearn\\cluster\\_kmeans.py:1419: UserWarning: KMeans is known to have a memory leak on Windows with MKL, when there are less chunks than available threads. You can avoid it by setting the environment variable OMP_NUM_THREADS=3.\n",
      "  warnings.warn(\n",
      "C:\\Users\\Administrator1\\.conda\\envs\\AD\\Lib\\site-packages\\sklearn\\cluster\\_kmeans.py:1419: UserWarning: KMeans is known to have a memory leak on Windows with MKL, when there are less chunks than available threads. You can avoid it by setting the environment variable OMP_NUM_THREADS=3.\n",
      "  warnings.warn(\n",
      "C:\\Users\\Administrator1\\.conda\\envs\\AD\\Lib\\site-packages\\sklearn\\cluster\\_kmeans.py:1419: UserWarning: KMeans is known to have a memory leak on Windows with MKL, when there are less chunks than available threads. You can avoid it by setting the environment variable OMP_NUM_THREADS=3.\n",
      "  warnings.warn(\n",
      "C:\\Users\\Administrator1\\.conda\\envs\\AD\\Lib\\site-packages\\sklearn\\cluster\\_kmeans.py:1419: UserWarning: KMeans is known to have a memory leak on Windows with MKL, when there are less chunks than available threads. You can avoid it by setting the environment variable OMP_NUM_THREADS=3.\n",
      "  warnings.warn(\n",
      "C:\\Users\\Administrator1\\.conda\\envs\\AD\\Lib\\site-packages\\sklearn\\cluster\\_kmeans.py:1419: UserWarning: KMeans is known to have a memory leak on Windows with MKL, when there are less chunks than available threads. You can avoid it by setting the environment variable OMP_NUM_THREADS=3.\n",
      "  warnings.warn(\n",
      "C:\\Users\\Administrator1\\.conda\\envs\\AD\\Lib\\site-packages\\sklearn\\cluster\\_kmeans.py:1419: UserWarning: KMeans is known to have a memory leak on Windows with MKL, when there are less chunks than available threads. You can avoid it by setting the environment variable OMP_NUM_THREADS=3.\n",
      "  warnings.warn(\n",
      "C:\\Users\\Administrator1\\.conda\\envs\\AD\\Lib\\site-packages\\sklearn\\cluster\\_kmeans.py:1419: UserWarning: KMeans is known to have a memory leak on Windows with MKL, when there are less chunks than available threads. You can avoid it by setting the environment variable OMP_NUM_THREADS=3.\n",
      "  warnings.warn(\n",
      "C:\\Users\\Administrator1\\.conda\\envs\\AD\\Lib\\site-packages\\sklearn\\cluster\\_kmeans.py:1419: UserWarning: KMeans is known to have a memory leak on Windows with MKL, when there are less chunks than available threads. You can avoid it by setting the environment variable OMP_NUM_THREADS=3.\n",
      "  warnings.warn(\n",
      "C:\\Users\\Administrator1\\.conda\\envs\\AD\\Lib\\site-packages\\sklearn\\cluster\\_kmeans.py:1419: UserWarning: KMeans is known to have a memory leak on Windows with MKL, when there are less chunks than available threads. You can avoid it by setting the environment variable OMP_NUM_THREADS=3.\n",
      "  warnings.warn(\n",
      "C:\\Users\\Administrator1\\.conda\\envs\\AD\\Lib\\site-packages\\sklearn\\cluster\\_kmeans.py:1419: UserWarning: KMeans is known to have a memory leak on Windows with MKL, when there are less chunks than available threads. You can avoid it by setting the environment variable OMP_NUM_THREADS=3.\n",
      "  warnings.warn(\n",
      "C:\\Users\\Administrator1\\.conda\\envs\\AD\\Lib\\site-packages\\sklearn\\cluster\\_kmeans.py:1419: UserWarning: KMeans is known to have a memory leak on Windows with MKL, when there are less chunks than available threads. You can avoid it by setting the environment variable OMP_NUM_THREADS=4.\n",
      "  warnings.warn(\n",
      "C:\\Users\\Administrator1\\.conda\\envs\\AD\\Lib\\site-packages\\sklearn\\cluster\\_kmeans.py:1419: UserWarning: KMeans is known to have a memory leak on Windows with MKL, when there are less chunks than available threads. You can avoid it by setting the environment variable OMP_NUM_THREADS=4.\n",
      "  warnings.warn(\n",
      "C:\\Users\\Administrator1\\.conda\\envs\\AD\\Lib\\site-packages\\sklearn\\cluster\\_kmeans.py:1419: UserWarning: KMeans is known to have a memory leak on Windows with MKL, when there are less chunks than available threads. You can avoid it by setting the environment variable OMP_NUM_THREADS=4.\n",
      "  warnings.warn(\n",
      "C:\\Users\\Administrator1\\.conda\\envs\\AD\\Lib\\site-packages\\sklearn\\cluster\\_kmeans.py:1419: UserWarning: KMeans is known to have a memory leak on Windows with MKL, when there are less chunks than available threads. You can avoid it by setting the environment variable OMP_NUM_THREADS=4.\n",
      "  warnings.warn(\n",
      "C:\\Users\\Administrator1\\.conda\\envs\\AD\\Lib\\site-packages\\sklearn\\cluster\\_kmeans.py:1419: UserWarning: KMeans is known to have a memory leak on Windows with MKL, when there are less chunks than available threads. You can avoid it by setting the environment variable OMP_NUM_THREADS=4.\n",
      "  warnings.warn(\n",
      "C:\\Users\\Administrator1\\.conda\\envs\\AD\\Lib\\site-packages\\sklearn\\cluster\\_kmeans.py:1419: UserWarning: KMeans is known to have a memory leak on Windows with MKL, when there are less chunks than available threads. You can avoid it by setting the environment variable OMP_NUM_THREADS=4.\n",
      "  warnings.warn(\n",
      "C:\\Users\\Administrator1\\.conda\\envs\\AD\\Lib\\site-packages\\sklearn\\cluster\\_kmeans.py:1419: UserWarning: KMeans is known to have a memory leak on Windows with MKL, when there are less chunks than available threads. You can avoid it by setting the environment variable OMP_NUM_THREADS=4.\n",
      "  warnings.warn(\n",
      "C:\\Users\\Administrator1\\.conda\\envs\\AD\\Lib\\site-packages\\sklearn\\cluster\\_kmeans.py:1419: UserWarning: KMeans is known to have a memory leak on Windows with MKL, when there are less chunks than available threads. You can avoid it by setting the environment variable OMP_NUM_THREADS=4.\n",
      "  warnings.warn(\n",
      "C:\\Users\\Administrator1\\.conda\\envs\\AD\\Lib\\site-packages\\sklearn\\cluster\\_kmeans.py:1419: UserWarning: KMeans is known to have a memory leak on Windows with MKL, when there are less chunks than available threads. You can avoid it by setting the environment variable OMP_NUM_THREADS=4.\n",
      "  warnings.warn(\n"
     ]
    },
    {
     "name": "stdout",
     "output_type": "stream",
     "text": [
      "Cluster 5.1 - Avg Age: 32.9, Avg Budget: 4371.4\n",
      "Cluster 5.2 - Avg Age: 57.6, Avg Budget: 3697.9\n",
      "Cluster 5.3 - Avg Age: 55.0, Avg Budget: 6758.3\n",
      "Cluster 3.1 - Avg Age: 47.4, Avg Budget: 6718.3\n",
      "Cluster 3.2 - Avg Age: 31.9, Avg Budget: 4085.9\n",
      "Cluster 3.3 - Avg Age: 58.9, Avg Budget: 3927.2\n",
      "   UserID  Cluster SubCluster             SubCluster_Description\n",
      "0   75722        6        6.3  Avg Age: 42.3, Avg Budget: 6376.3\n",
      "1   80185        2        2.2  Avg Age: 32.7, Avg Budget: 3932.0\n",
      "2   19865        1        1.5  Avg Age: 58.0, Avg Budget: 3560.1\n",
      "3   76700        2        2.3  Avg Age: 59.6, Avg Budget: 4175.7\n",
      "4   92992        7        7.1  Avg Age: 58.8, Avg Budget: 3605.3\n"
     ]
    },
    {
     "name": "stderr",
     "output_type": "stream",
     "text": [
      "C:\\Users\\Administrator1\\.conda\\envs\\AD\\Lib\\site-packages\\sklearn\\cluster\\_kmeans.py:1419: UserWarning: KMeans is known to have a memory leak on Windows with MKL, when there are less chunks than available threads. You can avoid it by setting the environment variable OMP_NUM_THREADS=4.\n",
      "  warnings.warn(\n"
     ]
    }
   ],
   "source": [
    "# 7. Secondary clustering\n",
    "\n",
    "# Define a function for automatically finding the optimal number of clusters\n",
    "def find_optimal_clusters(data, max_k=10):\n",
    "    from sklearn.metrics import silhouette_score\n",
    "    silhouette_scores = []\n",
    "    for k in range(2, max_k + 1):\n",
    "        kmeans = KMeans(n_clusters=k, random_state=42)\n",
    "        labels = kmeans.fit_predict(data)\n",
    "        score = silhouette_score(data, labels)\n",
    "        silhouette_scores.append((k, score))\n",
    "    # Return the number of clusters with the highest silhouette score.\n",
    "    optimal_k = max(silhouette_scores, key=lambda x: x[1])[0]\n",
    "    return optimal_k\n",
    "\n",
    "for cluster_id in _df['Cluster'].unique():\n",
    "    sub_df = _df[_df['Cluster'] == cluster_id].copy()\n",
    "\n",
    "    # Perform secondary clustering directly without considering the age range\n",
    "    if len(sub_df) > 0 and all(col in sub_df.columns for col in ['Age', 'Budget']):\n",
    "        scaler = StandardScaler()\n",
    "        sub_features = scaler.fit_transform(sub_df[['Age', 'Budget']])\n",
    "        optimal_k = find_optimal_clusters(sub_features)\n",
    "        kmeans = KMeans(n_clusters=optimal_k, random_state=42)\n",
    "        sub_df['SubCluster'] = kmeans.fit_predict(sub_features)\n",
    "        sub_df['SubCluster'] = sub_df['SubCluster'].apply(lambda x: f\"{cluster_id}.{x+1}\")\n",
    "        _df.loc[sub_df.index, 'SubCluster'] = sub_df['SubCluster']\n",
    "\n",
    "        # Obtain the mean and standard deviation for anti-standardization\n",
    "        means = scaler.mean_\n",
    "        scales = scaler.scale_\n",
    "\n",
    "        # Generate secondary label explanations and anti-standardized centroids\n",
    "        centers = kmeans.cluster_centers_\n",
    "        for i, center in enumerate(centers):\n",
    "            real_center = center * scales + means\n",
    "            avg_age, avg_budget = real_center[0], real_center[1]\n",
    "            print(f\"Cluster {cluster_id}.{i+1} - Avg Age: {avg_age:.1f}, Avg Budget: {avg_budget:.1f}\")\n",
    "            _df.loc[sub_df[sub_df['SubCluster'] == f\"{cluster_id}.{i+1}\"].index, 'SubCluster_Description'] = f\"Avg Age: {avg_age:.1f}, Avg Budget: {avg_budget:.1f}\"\n",
    "\n",
    "    else:\n",
    "        # If it is empty after filtering, retain the original cluster and mark it as a special subcluster：ClusterID.0\n",
    "        sub_df['SubCluster'] = f\"{cluster_id}.0\"\n",
    "        _df.loc[sub_df.index, 'SubCluster'] = sub_df['SubCluster']\n",
    "        _df.loc[sub_df.index, 'SubCluster_Description'] = \"No valid subcluster\""
   ]
  },
  {
   "cell_type": "code",
   "execution_count": 29,
   "id": "06fdaac7-0660-49c3-89c4-22bfc025d0e5",
   "metadata": {},
   "outputs": [
    {
     "name": "stdout",
     "output_type": "stream",
     "text": [
      "road: clustered_social_media_data.csv\n"
     ]
    }
   ],
   "source": [
    "output_path = \"clustered_social_media_data.csv\"\n",
    "\n",
    "social_df = pd.read_csv(\"SocialMediaDataset.csv\")\n",
    "\n",
    "social_df = pd.merge(social_df, _df[['UserID', 'Cluster', 'Cluster_tag', 'SubCluster', 'SubCluster_Description']], on='UserID', how='left')\n",
    "\n",
    "social_df.to_csv(output_path, index=False)\n",
    "print(f\"road: {output_path}\")"
   ]
  }
 ],
 "metadata": {
  "kernelspec": {
   "display_name": "Python 3 (ipykernel)",
   "language": "python",
   "name": "python3"
  },
  "language_info": {
   "codemirror_mode": {
    "name": "ipython",
    "version": 3
   },
   "file_extension": ".py",
   "mimetype": "text/x-python",
   "name": "python",
   "nbconvert_exporter": "python",
   "pygments_lexer": "ipython3",
   "version": "3.12.9"
  }
 },
 "nbformat": 4,
 "nbformat_minor": 5
}
