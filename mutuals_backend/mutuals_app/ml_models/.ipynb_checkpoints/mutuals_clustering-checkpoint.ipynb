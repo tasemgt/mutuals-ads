{
 "cells": [
  {
   "cell_type": "code",
   "execution_count": 181,
   "id": "f11dced7-e878-49d9-a290-8b48a6a2a58b",
   "metadata": {},
   "outputs": [],
   "source": [
    "from sklearn.cluster import KMeans\n",
    "from sklearn.preprocessing import MultiLabelBinarizer, StandardScaler\n",
    "import pandas as pd\n",
    "import joblib\n",
    "import numpy as np\n",
    "import matplotlib.pyplot as plt\n",
    "import networkx as nx\n",
    "from collections import Counter, defaultdict\n",
    "import igraph as ig\n",
    "import leidenalg\n",
    "import random\n",
    "import pickle"
   ]
  },
  {
   "cell_type": "code",
   "execution_count": 3,
   "id": "f62f0caf-6801-488f-b8d4-0441da34413f",
   "metadata": {},
   "outputs": [
    {
     "name": "stdout",
     "output_type": "stream",
     "text": [
      "Python 3.12.9\n"
     ]
    }
   ],
   "source": [
    "!python --version"
   ]
  },
  {
   "cell_type": "code",
   "execution_count": null,
   "id": "2d3191a1-7826-4580-a8a9-871bb660bd7f",
   "metadata": {},
   "outputs": [],
   "source": []
  },
  {
   "cell_type": "code",
   "execution_count": 4,
   "id": "a664c337-a6ca-44f2-9ef4-88e1dbd76c9a",
   "metadata": {},
   "outputs": [],
   "source": [
    "pd.set_option(\"display.max_columns\", None)\n",
    "# pd.set_option(\"display.max_rows\", None)"
   ]
  },
  {
   "cell_type": "code",
   "execution_count": 5,
   "id": "3e78ef4b-2f9b-4996-a942-10f6f388e70f",
   "metadata": {},
   "outputs": [],
   "source": [
    "# Clustered data\n",
    "# df = pd.read_csv(\"clustered_users.csv\")\n",
    "df = pd.read_csv(\"../../data/sm_data.csv\")"
   ]
  },
  {
   "cell_type": "code",
   "execution_count": 6,
   "id": "d77362ed-ee13-4dd8-aef3-90e4044157f5",
   "metadata": {},
   "outputs": [
    {
     "data": {
      "text/html": [
       "<div>\n",
       "<style scoped>\n",
       "    .dataframe tbody tr th:only-of-type {\n",
       "        vertical-align: middle;\n",
       "    }\n",
       "\n",
       "    .dataframe tbody tr th {\n",
       "        vertical-align: top;\n",
       "    }\n",
       "\n",
       "    .dataframe thead th {\n",
       "        text-align: right;\n",
       "    }\n",
       "</style>\n",
       "<table border=\"1\" class=\"dataframe\">\n",
       "  <thead>\n",
       "    <tr style=\"text-align: right;\">\n",
       "      <th></th>\n",
       "      <th>UserID</th>\n",
       "      <th>Name</th>\n",
       "      <th>Gender</th>\n",
       "      <th>DOB</th>\n",
       "      <th>Interests</th>\n",
       "      <th>City</th>\n",
       "      <th>Occupation</th>\n",
       "      <th>Budget (£)</th>\n",
       "      <th>Age</th>\n",
       "      <th>Age Range</th>\n",
       "    </tr>\n",
       "  </thead>\n",
       "  <tbody>\n",
       "    <tr>\n",
       "      <th>0</th>\n",
       "      <td>75722</td>\n",
       "      <td>Kevin Tabor</td>\n",
       "      <td>Male</td>\n",
       "      <td>1962-09-02</td>\n",
       "      <td>'Nature', 'Parenting and family'</td>\n",
       "      <td>Liverpool</td>\n",
       "      <td>Project Manager</td>\n",
       "      <td>6376</td>\n",
       "      <td>63</td>\n",
       "      <td>56-65</td>\n",
       "    </tr>\n",
       "    <tr>\n",
       "      <th>1</th>\n",
       "      <td>80185</td>\n",
       "      <td>Bethany Buckley</td>\n",
       "      <td>Male</td>\n",
       "      <td>1983-07-28</td>\n",
       "      <td>'Business and entrepreneurship'</td>\n",
       "      <td>Stockport</td>\n",
       "      <td>Data Analyst</td>\n",
       "      <td>4205</td>\n",
       "      <td>42</td>\n",
       "      <td>36-45</td>\n",
       "    </tr>\n",
       "    <tr>\n",
       "      <th>2</th>\n",
       "      <td>19865</td>\n",
       "      <td>Marsha Ayala</td>\n",
       "      <td>Male</td>\n",
       "      <td>1958-12-18</td>\n",
       "      <td>'Fashion', 'DIY and crafts', 'Outdoor activities'</td>\n",
       "      <td>Bolton</td>\n",
       "      <td>Cleaner</td>\n",
       "      <td>2725</td>\n",
       "      <td>67</td>\n",
       "      <td>66+</td>\n",
       "    </tr>\n",
       "    <tr>\n",
       "      <th>3</th>\n",
       "      <td>76700</td>\n",
       "      <td>Sheryl Hower</td>\n",
       "      <td>Male</td>\n",
       "      <td>1964-04-12</td>\n",
       "      <td>'Business and entrepreneurship'</td>\n",
       "      <td>Stockport</td>\n",
       "      <td>Quality Assurance Analyst</td>\n",
       "      <td>4556</td>\n",
       "      <td>61</td>\n",
       "      <td>56-65</td>\n",
       "    </tr>\n",
       "    <tr>\n",
       "      <th>4</th>\n",
       "      <td>92992</td>\n",
       "      <td>Robin Garrett</td>\n",
       "      <td>Male</td>\n",
       "      <td>1975-11-26</td>\n",
       "      <td>'Travel'</td>\n",
       "      <td>Liverpool</td>\n",
       "      <td>Barista</td>\n",
       "      <td>2322</td>\n",
       "      <td>50</td>\n",
       "      <td>46-55</td>\n",
       "    </tr>\n",
       "  </tbody>\n",
       "</table>\n",
       "</div>"
      ],
      "text/plain": [
       "   UserID             Name Gender         DOB  \\\n",
       "0   75722      Kevin Tabor   Male  1962-09-02   \n",
       "1   80185  Bethany Buckley   Male  1983-07-28   \n",
       "2   19865     Marsha Ayala   Male  1958-12-18   \n",
       "3   76700     Sheryl Hower   Male  1964-04-12   \n",
       "4   92992    Robin Garrett   Male  1975-11-26   \n",
       "\n",
       "                                           Interests       City  \\\n",
       "0                   'Nature', 'Parenting and family'  Liverpool   \n",
       "1                    'Business and entrepreneurship'  Stockport   \n",
       "2  'Fashion', 'DIY and crafts', 'Outdoor activities'     Bolton   \n",
       "3                    'Business and entrepreneurship'  Stockport   \n",
       "4                                           'Travel'  Liverpool   \n",
       "\n",
       "                  Occupation  Budget (£)  Age Age Range  \n",
       "0            Project Manager        6376   63     56-65  \n",
       "1               Data Analyst        4205   42     36-45  \n",
       "2                    Cleaner        2725   67       66+  \n",
       "3  Quality Assurance Analyst        4556   61     56-65  \n",
       "4                    Barista        2322   50     46-55  "
      ]
     },
     "execution_count": 6,
     "metadata": {},
     "output_type": "execute_result"
    }
   ],
   "source": [
    "df.head()"
   ]
  },
  {
   "cell_type": "code",
   "execution_count": 25,
   "id": "fb7d9efd-df6b-4e2b-a402-4a6b4b83baa5",
   "metadata": {},
   "outputs": [
    {
     "data": {
      "text/plain": [
       "(10000, 10)"
      ]
     },
     "execution_count": 25,
     "metadata": {},
     "output_type": "execute_result"
    }
   ],
   "source": [
    "df.shape"
   ]
  },
  {
   "cell_type": "code",
   "execution_count": 154,
   "id": "6f9ccd31-a8e3-4bfb-bbc0-a4ca24662f78",
   "metadata": {},
   "outputs": [],
   "source": [
    "df_train = df.head(1500) #Using 1500 records for faster cliustering "
   ]
  },
  {
   "cell_type": "code",
   "execution_count": 206,
   "id": "88030ae7-b8df-4e25-88f8-9ddf5131a04b",
   "metadata": {},
   "outputs": [],
   "source": [
    "_df_ = df_train.copy()"
   ]
  },
  {
   "cell_type": "code",
   "execution_count": 212,
   "id": "bce2012b-cf7c-4c25-b4a8-c341bf6b7079",
   "metadata": {},
   "outputs": [
    {
     "data": {
      "text/plain": [
       "str"
      ]
     },
     "execution_count": 212,
     "metadata": {},
     "output_type": "execute_result"
    }
   ],
   "source": [
    "type(_df_['Interests'][0][0])"
   ]
  },
  {
   "cell_type": "code",
   "execution_count": 208,
   "id": "2be12845-bc33-41da-9d66-7b30832ab4b3",
   "metadata": {},
   "outputs": [],
   "source": [
    "# Clean and parse the Interests column into a list\n",
    "_df_['Interests'] = _df_['Interests'].apply(lambda x: [i.strip().strip(\"'\") for i in x.split(',')])"
   ]
  },
  {
   "cell_type": "code",
   "execution_count": 157,
   "id": "e00dde05-5434-4232-b85f-71dd69e08836",
   "metadata": {},
   "outputs": [
    {
     "data": {
      "text/plain": [
       "(1500, 10)"
      ]
     },
     "execution_count": 157,
     "metadata": {},
     "output_type": "execute_result"
    }
   ],
   "source": [
    "_df.shape"
   ]
  },
  {
   "cell_type": "code",
   "execution_count": 158,
   "id": "ba7a2fdb-a2e4-47f8-9894-ad69e1d3a360",
   "metadata": {},
   "outputs": [
    {
     "data": {
      "text/html": [
       "<div>\n",
       "<style scoped>\n",
       "    .dataframe tbody tr th:only-of-type {\n",
       "        vertical-align: middle;\n",
       "    }\n",
       "\n",
       "    .dataframe tbody tr th {\n",
       "        vertical-align: top;\n",
       "    }\n",
       "\n",
       "    .dataframe thead th {\n",
       "        text-align: right;\n",
       "    }\n",
       "</style>\n",
       "<table border=\"1\" class=\"dataframe\">\n",
       "  <thead>\n",
       "    <tr style=\"text-align: right;\">\n",
       "      <th></th>\n",
       "      <th>UserID</th>\n",
       "      <th>Name</th>\n",
       "      <th>Gender</th>\n",
       "      <th>DOB</th>\n",
       "      <th>Interests</th>\n",
       "      <th>City</th>\n",
       "      <th>Occupation</th>\n",
       "      <th>Budget (£)</th>\n",
       "      <th>Age</th>\n",
       "      <th>Age Range</th>\n",
       "    </tr>\n",
       "  </thead>\n",
       "  <tbody>\n",
       "    <tr>\n",
       "      <th>0</th>\n",
       "      <td>75722</td>\n",
       "      <td>Kevin Tabor</td>\n",
       "      <td>Male</td>\n",
       "      <td>1962-09-02</td>\n",
       "      <td>[Nature, Parenting and family]</td>\n",
       "      <td>Liverpool</td>\n",
       "      <td>Project Manager</td>\n",
       "      <td>6376</td>\n",
       "      <td>63</td>\n",
       "      <td>56-65</td>\n",
       "    </tr>\n",
       "    <tr>\n",
       "      <th>1</th>\n",
       "      <td>80185</td>\n",
       "      <td>Bethany Buckley</td>\n",
       "      <td>Male</td>\n",
       "      <td>1983-07-28</td>\n",
       "      <td>[Business and entrepreneurship]</td>\n",
       "      <td>Stockport</td>\n",
       "      <td>Data Analyst</td>\n",
       "      <td>4205</td>\n",
       "      <td>42</td>\n",
       "      <td>36-45</td>\n",
       "    </tr>\n",
       "    <tr>\n",
       "      <th>2</th>\n",
       "      <td>19865</td>\n",
       "      <td>Marsha Ayala</td>\n",
       "      <td>Male</td>\n",
       "      <td>1958-12-18</td>\n",
       "      <td>[Fashion, DIY and crafts, Outdoor activities]</td>\n",
       "      <td>Bolton</td>\n",
       "      <td>Cleaner</td>\n",
       "      <td>2725</td>\n",
       "      <td>67</td>\n",
       "      <td>66+</td>\n",
       "    </tr>\n",
       "  </tbody>\n",
       "</table>\n",
       "</div>"
      ],
      "text/plain": [
       "   UserID             Name Gender         DOB  \\\n",
       "0   75722      Kevin Tabor   Male  1962-09-02   \n",
       "1   80185  Bethany Buckley   Male  1983-07-28   \n",
       "2   19865     Marsha Ayala   Male  1958-12-18   \n",
       "\n",
       "                                       Interests       City       Occupation  \\\n",
       "0                 [Nature, Parenting and family]  Liverpool  Project Manager   \n",
       "1                [Business and entrepreneurship]  Stockport     Data Analyst   \n",
       "2  [Fashion, DIY and crafts, Outdoor activities]     Bolton          Cleaner   \n",
       "\n",
       "   Budget (£)  Age Age Range  \n",
       "0        6376   63     56-65  \n",
       "1        4205   42     36-45  \n",
       "2        2725   67       66+  "
      ]
     },
     "execution_count": 158,
     "metadata": {},
     "output_type": "execute_result"
    }
   ],
   "source": [
    "_df.head(3)"
   ]
  },
  {
   "cell_type": "code",
   "execution_count": 204,
   "id": "5e0f334e-d22e-4f38-a0b3-56c9fc65371c",
   "metadata": {},
   "outputs": [
    {
     "data": {
      "text/html": [
       "<div>\n",
       "<style scoped>\n",
       "    .dataframe tbody tr th:only-of-type {\n",
       "        vertical-align: middle;\n",
       "    }\n",
       "\n",
       "    .dataframe tbody tr th {\n",
       "        vertical-align: top;\n",
       "    }\n",
       "\n",
       "    .dataframe thead th {\n",
       "        text-align: right;\n",
       "    }\n",
       "</style>\n",
       "<table border=\"1\" class=\"dataframe\">\n",
       "  <thead>\n",
       "    <tr style=\"text-align: right;\">\n",
       "      <th></th>\n",
       "      <th>user_id</th>\n",
       "      <th>name</th>\n",
       "      <th>gender</th>\n",
       "      <th>dob</th>\n",
       "      <th>interests</th>\n",
       "      <th>city</th>\n",
       "      <th>occupation</th>\n",
       "      <th>budget</th>\n",
       "      <th>age</th>\n",
       "      <th>age_range</th>\n",
       "      <th>Cluster</th>\n",
       "      <th>Cluster_tag</th>\n",
       "    </tr>\n",
       "  </thead>\n",
       "  <tbody>\n",
       "    <tr>\n",
       "      <th>0</th>\n",
       "      <td>75722</td>\n",
       "      <td>Kevin Tabor</td>\n",
       "      <td>Male</td>\n",
       "      <td>1962-09-02</td>\n",
       "      <td>Nature, Parenting and family</td>\n",
       "      <td>Liverpool</td>\n",
       "      <td>Project Manager</td>\n",
       "      <td>6376</td>\n",
       "      <td>63</td>\n",
       "      <td>56-65</td>\n",
       "      <td>7</td>\n",
       "      <td>Nature &amp; Travel</td>\n",
       "    </tr>\n",
       "    <tr>\n",
       "      <th>1</th>\n",
       "      <td>80185</td>\n",
       "      <td>Bethany Buckley</td>\n",
       "      <td>Male</td>\n",
       "      <td>1983-07-28</td>\n",
       "      <td>Business and entrepreneurship</td>\n",
       "      <td>Stockport</td>\n",
       "      <td>Data Analyst</td>\n",
       "      <td>4205</td>\n",
       "      <td>42</td>\n",
       "      <td>36-45</td>\n",
       "      <td>1</td>\n",
       "      <td>Beauty &amp; Business and entrepreneurship</td>\n",
       "    </tr>\n",
       "    <tr>\n",
       "      <th>2</th>\n",
       "      <td>19865</td>\n",
       "      <td>Marsha Ayala</td>\n",
       "      <td>Male</td>\n",
       "      <td>1958-12-18</td>\n",
       "      <td>Fashion, DIY and crafts, Outdoor activities</td>\n",
       "      <td>Bolton</td>\n",
       "      <td>Cleaner</td>\n",
       "      <td>2725</td>\n",
       "      <td>67</td>\n",
       "      <td>66+</td>\n",
       "      <td>3</td>\n",
       "      <td>Fashion &amp; Gaming</td>\n",
       "    </tr>\n",
       "  </tbody>\n",
       "</table>\n",
       "</div>"
      ],
      "text/plain": [
       "   user_id             name gender         dob  \\\n",
       "0    75722      Kevin Tabor   Male  1962-09-02   \n",
       "1    80185  Bethany Buckley   Male  1983-07-28   \n",
       "2    19865     Marsha Ayala   Male  1958-12-18   \n",
       "\n",
       "                                     interests       city       occupation  \\\n",
       "0                 Nature, Parenting and family  Liverpool  Project Manager   \n",
       "1                Business and entrepreneurship  Stockport     Data Analyst   \n",
       "2  Fashion, DIY and crafts, Outdoor activities     Bolton          Cleaner   \n",
       "\n",
       "   budget  age age_range  Cluster                             Cluster_tag  \n",
       "0    6376   63     56-65        7                         Nature & Travel  \n",
       "1    4205   42     36-45        1  Beauty & Business and entrepreneurship  \n",
       "2    2725   67       66+        3                        Fashion & Gaming  "
      ]
     },
     "execution_count": 204,
     "metadata": {},
     "output_type": "execute_result"
    }
   ],
   "source": [
    "_df.head(3)"
   ]
  },
  {
   "cell_type": "markdown",
   "id": "9a46f6ac-8989-4075-842a-0c5242458337",
   "metadata": {},
   "source": [
    "### Start Process!!"
   ]
  },
  {
   "cell_type": "markdown",
   "id": "69d6ebdf-e065-4540-9595-2df29004347d",
   "metadata": {},
   "source": [
    "### Dataframe in use -> _df "
   ]
  },
  {
   "cell_type": "code",
   "execution_count": 159,
   "id": "c95f5ea6-ff3a-4d94-a3c0-bd64df9c7ab0",
   "metadata": {},
   "outputs": [],
   "source": [
    "# --- 2. Create bipartite graph (Users <-> Interests) ---\n",
    "B = nx.Graph()\n",
    "\n",
    "# Add users and interests as nodes\n",
    "for _, row in _df.iterrows():\n",
    "    user_id = row['UserID']\n",
    "    B.add_node(user_id, bipartite=0)  # User nodes\n",
    "    for interest in row['Interests']:\n",
    "        B.add_node(interest, bipartite=1)  # Interest nodes\n",
    "        B.add_edge(user_id, interest)\n",
    "\n",
    "# Separate user nodes\n",
    "# user_nodes = [n for n, d in B.nodes(data=True) if d['bipartite'] == 0]\n",
    "user_nodes = sorted([n for n, d in B.nodes(data=True) if d['bipartite'] == 0])"
   ]
  },
  {
   "cell_type": "code",
   "execution_count": 160,
   "id": "eb20f886-72b4-4b2c-a43f-2f920503a32d",
   "metadata": {},
   "outputs": [
    {
     "data": {
      "text/plain": [
       "1500"
      ]
     },
     "execution_count": 160,
     "metadata": {},
     "output_type": "execute_result"
    }
   ],
   "source": [
    "len(user_nodes)"
   ]
  },
  {
   "cell_type": "code",
   "execution_count": 161,
   "id": "2cb97a65-4b10-43ef-9453-c90224a5b3ba",
   "metadata": {},
   "outputs": [
    {
     "data": {
      "text/plain": [
       "<networkx.classes.graph.Graph at 0x31c6f4890>"
      ]
     },
     "execution_count": 161,
     "metadata": {},
     "output_type": "execute_result"
    }
   ],
   "source": [
    "B"
   ]
  },
  {
   "cell_type": "code",
   "execution_count": 162,
   "id": "4109fc66-ac77-42c9-90da-6d93cf46c9e2",
   "metadata": {},
   "outputs": [],
   "source": [
    "# --- 3. Project bipartite to user-user graph based on shared interests ---\n",
    "user_graph = nx.bipartite.weighted_projected_graph(B, user_nodes)"
   ]
  },
  {
   "cell_type": "code",
   "execution_count": 163,
   "id": "63f0dfa3-24cc-42ff-81a1-8497665fb67a",
   "metadata": {},
   "outputs": [
    {
     "data": {
      "text/plain": [
       "<networkx.classes.graph.Graph at 0x319047140>"
      ]
     },
     "execution_count": 163,
     "metadata": {},
     "output_type": "execute_result"
    }
   ],
   "source": [
    "user_graph"
   ]
  },
  {
   "cell_type": "code",
   "execution_count": 164,
   "id": "619a1bbe-d541-47c7-bd65-3ed02600240e",
   "metadata": {},
   "outputs": [],
   "source": [
    "# --- 4. Start Leiden ---\n",
    "\n",
    "# Convert NetworkX graph to iGraph\n",
    "edges = [(u, v, d['weight']) for u, v, d in user_graph.edges(data=True)]\n",
    "G_ig = ig.Graph.TupleList(edges, weights=True, directed=False)"
   ]
  },
  {
   "cell_type": "code",
   "execution_count": 190,
   "id": "7a9b9b43-bcc6-4c0d-a489-ab425693843f",
   "metadata": {},
   "outputs": [],
   "source": [
    "# ####### --- Run Leiden multiple times with different seeds and select best modularity ---#######\n",
    "# best_modularity = -1.0\n",
    "# best_partition = None\n",
    "# best_seed = None\n",
    "\n",
    "# seeds = range(1, 101, 1)  # Seeds: 10, 20, ..., 100\n",
    "\n",
    "# for seed in seeds:\n",
    "#     partition = leidenalg.find_partition(G_ig, leidenalg.RBConfigurationVertexPartition, resolution_parameter=1.0, seed=seed) # Try 0.8 to 1.5\n",
    "#     modularity = partition.modularity\n",
    "\n",
    "#     print(f\"Seed {seed}: modularity = {modularity:.4f}\")\n",
    "\n",
    "#     if modularity > best_modularity:\n",
    "#         best_modularity = modularity\n",
    "#         best_partition = partition\n",
    "#         best_seed = seed\n",
    "\n",
    "# print(f\"\\nBest seed: {best_seed} with modularity: {best_modularity:.4f}\")"
   ]
  },
  {
   "cell_type": "code",
   "execution_count": 165,
   "id": "7e637ba1-79ca-4059-a290-ae207ea863a0",
   "metadata": {},
   "outputs": [],
   "source": [
    "# --- 4.1 Run Leiden community detection algorithm ---\n",
    "partition = leidenalg.find_partition(G_ig, leidenalg.ModularityVertexPartition, seed=91) # Set fixed random seed\n",
    "\n",
    "# Map each node to its cluster ID\n",
    "leiden_partition = {}\n",
    "for cluster_id, cluster_nodes in enumerate(partition):\n",
    "    for node_index in cluster_nodes:\n",
    "        user_id = G_ig.vs[node_index]['name']  # iGraph preserves original node name\n",
    "        leiden_partition[user_id] = cluster_id + 1 # Shift ID to start from 1"
   ]
  },
  {
   "cell_type": "code",
   "execution_count": 166,
   "id": "1f68f01c-7880-4d12-b1e0-6b052c5ed10d",
   "metadata": {},
   "outputs": [
    {
     "data": {
      "text/plain": [
       "0.191718939154232"
      ]
     },
     "execution_count": 166,
     "metadata": {},
     "output_type": "execute_result"
    }
   ],
   "source": [
    "modularity = partition.modularity\n",
    "modularity"
   ]
  },
  {
   "cell_type": "code",
   "execution_count": 167,
   "id": "2177dfd9-a0bb-4918-aa50-6f909e948032",
   "metadata": {},
   "outputs": [],
   "source": [
    "# --- 5. Add cluster labels back to the DataFrame ---\n",
    "_df['Cluster'] = _df['UserID'].map(leiden_partition)"
   ]
  },
  {
   "cell_type": "code",
   "execution_count": 168,
   "id": "c4c93823-e358-452c-b7a5-16234ee0bcbe",
   "metadata": {},
   "outputs": [
    {
     "data": {
      "text/plain": [
       "array([7, 1, 3, 2, 5, 4, 6])"
      ]
     },
     "execution_count": 168,
     "metadata": {},
     "output_type": "execute_result"
    }
   ],
   "source": [
    "_df['Cluster'].unique()"
   ]
  },
  {
   "cell_type": "code",
   "execution_count": 169,
   "id": "61415970-5616-4337-bc07-a0800c574d13",
   "metadata": {},
   "outputs": [],
   "source": [
    "# --- 6. Tag each cluster using top-N most common interests ---\n",
    "\n",
    "top_n = 2  # Change as needed\n",
    "cluster_interests = defaultdict(list)\n",
    "\n",
    "for _, row in _df.iterrows():\n",
    "    cluster = row[\"Cluster\"]\n",
    "    interests = row[\"Interests\"]\n",
    "    if cluster is not None:\n",
    "        cluster_interests[cluster].extend(interests)\n",
    "\n",
    "# Get top interests per cluster and create tag\n",
    "cluster_tags = {\n",
    "    cluster: \" & \".join([i[0] for i in Counter(interests).most_common(top_n)])\n",
    "    for cluster, interests in cluster_interests.items()\n",
    "}\n",
    "\n",
    "# Assign tags to DataFrame\n",
    "_df[\"Cluster_tag\"] = _df[\"Cluster\"].map(cluster_tags)"
   ]
  },
  {
   "cell_type": "code",
   "execution_count": 170,
   "id": "d096aecf-f022-4cf7-b614-6a092bc50006",
   "metadata": {},
   "outputs": [
    {
     "data": {
      "text/html": [
       "<div>\n",
       "<style scoped>\n",
       "    .dataframe tbody tr th:only-of-type {\n",
       "        vertical-align: middle;\n",
       "    }\n",
       "\n",
       "    .dataframe tbody tr th {\n",
       "        vertical-align: top;\n",
       "    }\n",
       "\n",
       "    .dataframe thead th {\n",
       "        text-align: right;\n",
       "    }\n",
       "</style>\n",
       "<table border=\"1\" class=\"dataframe\">\n",
       "  <thead>\n",
       "    <tr style=\"text-align: right;\">\n",
       "      <th></th>\n",
       "      <th>UserID</th>\n",
       "      <th>Name</th>\n",
       "      <th>Gender</th>\n",
       "      <th>DOB</th>\n",
       "      <th>Interests</th>\n",
       "      <th>City</th>\n",
       "      <th>Occupation</th>\n",
       "      <th>Budget (£)</th>\n",
       "      <th>Age</th>\n",
       "      <th>Age Range</th>\n",
       "      <th>Cluster</th>\n",
       "      <th>Cluster_tag</th>\n",
       "    </tr>\n",
       "  </thead>\n",
       "  <tbody>\n",
       "    <tr>\n",
       "      <th>0</th>\n",
       "      <td>75722</td>\n",
       "      <td>Kevin Tabor</td>\n",
       "      <td>Male</td>\n",
       "      <td>1962-09-02</td>\n",
       "      <td>[Nature, Parenting and family]</td>\n",
       "      <td>Liverpool</td>\n",
       "      <td>Project Manager</td>\n",
       "      <td>6376</td>\n",
       "      <td>63</td>\n",
       "      <td>56-65</td>\n",
       "      <td>7</td>\n",
       "      <td>Nature &amp; Travel</td>\n",
       "    </tr>\n",
       "    <tr>\n",
       "      <th>1</th>\n",
       "      <td>80185</td>\n",
       "      <td>Bethany Buckley</td>\n",
       "      <td>Male</td>\n",
       "      <td>1983-07-28</td>\n",
       "      <td>[Business and entrepreneurship]</td>\n",
       "      <td>Stockport</td>\n",
       "      <td>Data Analyst</td>\n",
       "      <td>4205</td>\n",
       "      <td>42</td>\n",
       "      <td>36-45</td>\n",
       "      <td>1</td>\n",
       "      <td>Beauty &amp; Business and entrepreneurship</td>\n",
       "    </tr>\n",
       "    <tr>\n",
       "      <th>2</th>\n",
       "      <td>19865</td>\n",
       "      <td>Marsha Ayala</td>\n",
       "      <td>Male</td>\n",
       "      <td>1958-12-18</td>\n",
       "      <td>[Fashion, DIY and crafts, Outdoor activities]</td>\n",
       "      <td>Bolton</td>\n",
       "      <td>Cleaner</td>\n",
       "      <td>2725</td>\n",
       "      <td>67</td>\n",
       "      <td>66+</td>\n",
       "      <td>3</td>\n",
       "      <td>Fashion &amp; Gaming</td>\n",
       "    </tr>\n",
       "  </tbody>\n",
       "</table>\n",
       "</div>"
      ],
      "text/plain": [
       "   UserID             Name Gender         DOB  \\\n",
       "0   75722      Kevin Tabor   Male  1962-09-02   \n",
       "1   80185  Bethany Buckley   Male  1983-07-28   \n",
       "2   19865     Marsha Ayala   Male  1958-12-18   \n",
       "\n",
       "                                       Interests       City       Occupation  \\\n",
       "0                 [Nature, Parenting and family]  Liverpool  Project Manager   \n",
       "1                [Business and entrepreneurship]  Stockport     Data Analyst   \n",
       "2  [Fashion, DIY and crafts, Outdoor activities]     Bolton          Cleaner   \n",
       "\n",
       "   Budget (£)  Age Age Range  Cluster                             Cluster_tag  \n",
       "0        6376   63     56-65        7                         Nature & Travel  \n",
       "1        4205   42     36-45        1  Beauty & Business and entrepreneurship  \n",
       "2        2725   67       66+        3                        Fashion & Gaming  "
      ]
     },
     "execution_count": 170,
     "metadata": {},
     "output_type": "execute_result"
    }
   ],
   "source": [
    "_df.head(3)"
   ]
  },
  {
   "cell_type": "code",
   "execution_count": 172,
   "id": "036094ba-1cbb-4b24-bdb0-1945245a8c16",
   "metadata": {},
   "outputs": [
    {
     "data": {
      "text/html": [
       "<div>\n",
       "<style scoped>\n",
       "    .dataframe tbody tr th:only-of-type {\n",
       "        vertical-align: middle;\n",
       "    }\n",
       "\n",
       "    .dataframe tbody tr th {\n",
       "        vertical-align: top;\n",
       "    }\n",
       "\n",
       "    .dataframe thead th {\n",
       "        text-align: right;\n",
       "    }\n",
       "</style>\n",
       "<table border=\"1\" class=\"dataframe\">\n",
       "  <thead>\n",
       "    <tr style=\"text-align: right;\">\n",
       "      <th></th>\n",
       "      <th>UserID</th>\n",
       "      <th>Name</th>\n",
       "      <th>Gender</th>\n",
       "      <th>DOB</th>\n",
       "      <th>Interests</th>\n",
       "      <th>City</th>\n",
       "      <th>Occupation</th>\n",
       "      <th>Budget (£)</th>\n",
       "      <th>Age</th>\n",
       "      <th>Age Range</th>\n",
       "      <th>Cluster</th>\n",
       "      <th>Cluster_tag</th>\n",
       "    </tr>\n",
       "  </thead>\n",
       "  <tbody>\n",
       "    <tr>\n",
       "      <th>0</th>\n",
       "      <td>75722</td>\n",
       "      <td>Kevin Tabor</td>\n",
       "      <td>Male</td>\n",
       "      <td>1962-09-02</td>\n",
       "      <td>[Nature, Parenting and family]</td>\n",
       "      <td>Liverpool</td>\n",
       "      <td>Project Manager</td>\n",
       "      <td>6376</td>\n",
       "      <td>63</td>\n",
       "      <td>56-65</td>\n",
       "      <td>7</td>\n",
       "      <td>Nature &amp; Travel</td>\n",
       "    </tr>\n",
       "    <tr>\n",
       "      <th>17</th>\n",
       "      <td>1762</td>\n",
       "      <td>Annie Loudy</td>\n",
       "      <td>Female</td>\n",
       "      <td>1979-12-02</td>\n",
       "      <td>[Nature, Health and wellness, Sports]</td>\n",
       "      <td>Manchester</td>\n",
       "      <td>Public Relations Specialist</td>\n",
       "      <td>5501</td>\n",
       "      <td>46</td>\n",
       "      <td>46-55</td>\n",
       "      <td>7</td>\n",
       "      <td>Nature &amp; Travel</td>\n",
       "    </tr>\n",
       "    <tr>\n",
       "      <th>24</th>\n",
       "      <td>41332</td>\n",
       "      <td>Ryan Wood</td>\n",
       "      <td>Male</td>\n",
       "      <td>1956-06-30</td>\n",
       "      <td>[Nature]</td>\n",
       "      <td>Stockport</td>\n",
       "      <td>Procurement Specialist</td>\n",
       "      <td>4849</td>\n",
       "      <td>69</td>\n",
       "      <td>66+</td>\n",
       "      <td>7</td>\n",
       "      <td>Nature &amp; Travel</td>\n",
       "    </tr>\n",
       "  </tbody>\n",
       "</table>\n",
       "</div>"
      ],
      "text/plain": [
       "    UserID         Name  Gender         DOB  \\\n",
       "0    75722  Kevin Tabor    Male  1962-09-02   \n",
       "17    1762  Annie Loudy  Female  1979-12-02   \n",
       "24   41332    Ryan Wood    Male  1956-06-30   \n",
       "\n",
       "                                Interests        City  \\\n",
       "0          [Nature, Parenting and family]   Liverpool   \n",
       "17  [Nature, Health and wellness, Sports]  Manchester   \n",
       "24                               [Nature]   Stockport   \n",
       "\n",
       "                     Occupation  Budget (£)  Age Age Range  Cluster  \\\n",
       "0               Project Manager        6376   63     56-65        7   \n",
       "17  Public Relations Specialist        5501   46     46-55        7   \n",
       "24       Procurement Specialist        4849   69       66+        7   \n",
       "\n",
       "        Cluster_tag  \n",
       "0   Nature & Travel  \n",
       "17  Nature & Travel  \n",
       "24  Nature & Travel  "
      ]
     },
     "execution_count": 172,
     "metadata": {},
     "output_type": "execute_result"
    }
   ],
   "source": [
    "_df[_df['Cluster'] == 7].head(3)"
   ]
  },
  {
   "cell_type": "code",
   "execution_count": 173,
   "id": "b0ef723a-db2f-43ef-8421-392dbe42c212",
   "metadata": {},
   "outputs": [
    {
     "data": {
      "image/png": "[encoded data removed]",
      "text/plain": [
       "<Figure size 1000x700 with 1 Axes>"
      ]
     },
     "metadata": {},
     "output_type": "display_data"
    }
   ],
   "source": [
    "# --- 7. Visualize a sample of the user graph with cluster colors ---\n",
    "\n",
    "# Sample a subset of users for clearer visualization\n",
    "sample_size = 50\n",
    "sampled_users = random.sample(list(user_graph.nodes()), min(sample_size, len(user_graph.nodes())))\n",
    "sampled_graph = user_graph.subgraph(sampled_users)\n",
    "\n",
    "# Extract colors for sampled nodes\n",
    "sampled_colors = [leiden_partition[node] for node in sampled_graph.nodes()]\n",
    "\n",
    "# Plot\n",
    "plt.figure(figsize=(10, 7))\n",
    "pos = nx.spring_layout(sampled_graph, seed=42)\n",
    "nx.draw(\n",
    "    sampled_graph, pos,\n",
    "    node_color=sampled_colors,\n",
    "    with_labels=True,\n",
    "    node_size=600,\n",
    "    cmap=plt.cm.Set3\n",
    ")\n",
    "plt.title(\"Sampled Mutual Users Clusters (Leiden Algorithm)\")\n",
    "plt.show()"
   ]
  },
  {
   "cell_type": "code",
   "execution_count": 174,
   "id": "22f712ab-c2eb-4529-bfe6-9fadb43b665a",
   "metadata": {},
   "outputs": [],
   "source": [
    "_df['Interests'] = _df['Interests'].apply(lambda x: ', '.join(x))"
   ]
  },
  {
   "cell_type": "code",
   "execution_count": 175,
   "id": "55d062ec-84c0-4eb6-886c-acdbdb374c06",
   "metadata": {},
   "outputs": [],
   "source": [
    "_df.rename(columns={'UserID': 'user_id','Gender': 'gender', 'Name': 'name', 'DOB': 'dob', 'Interests': 'interests', 'City': 'city', 'Occupation': 'occupation', 'Budget (£)': 'budget', 'Age': 'age', 'Age Range': 'age_range'}, inplace=True)"
   ]
  },
  {
   "cell_type": "code",
   "execution_count": 176,
   "id": "5d4aa137-996e-47da-9d18-633144a0d8b6",
   "metadata": {},
   "outputs": [],
   "source": [
    "_df.to_csv('clustered_mutuals.csv')"
   ]
  },
  {
   "cell_type": "code",
   "execution_count": 177,
   "id": "f1e3fca0-abbf-462d-a07e-864435f7b8de",
   "metadata": {},
   "outputs": [
    {
     "data": {
      "text/plain": [
       "{7: 'Nature & Travel',\n",
       " 1: 'Beauty & Business and entrepreneurship',\n",
       " 3: 'Fashion & Gaming',\n",
       " 2: 'DIY and crafts & Travel',\n",
       " 5: 'Music & Fitness',\n",
       " 4: 'Education and learning & Art',\n",
       " 6: 'Cars and automobiles & Parenting and family'}"
      ]
     },
     "execution_count": 177,
     "metadata": {},
     "output_type": "execute_result"
    }
   ],
   "source": [
    "cluster_tags"
   ]
  },
  {
   "cell_type": "code",
   "execution_count": 178,
   "id": "e1847616-b413-48bb-a86c-f2fcc799ceca",
   "metadata": {},
   "outputs": [
    {
     "name": "stdout",
     "output_type": "stream",
     "text": [
      "Modularity: 0.1917\n"
     ]
    }
   ],
   "source": [
    "modularity = partition.modularity\n",
    "print(f\"Modularity: {modularity:.4f}\")"
   ]
  },
  {
   "cell_type": "code",
   "execution_count": 179,
   "id": "63d356d7-e69e-4447-8d88-794679da3643",
   "metadata": {},
   "outputs": [
    {
     "name": "stdout",
     "output_type": "stream",
     "text": [
      "{\n",
      "    \"1\": \"Beauty & Business and entrepreneurship\",\n",
      "    \"2\": \"DIY and crafts & Travel\",\n",
      "    \"3\": \"Fashion & Gaming\",\n",
      "    \"4\": \"Education and learning & Art\",\n",
      "    \"5\": \"Music & Fitness\",\n",
      "    \"6\": \"Cars and automobiles & Parenting and family\",\n",
      "    \"7\": \"Nature & Travel\"\n",
      "}\n"
     ]
    }
   ],
   "source": [
    "import json\n",
    "print(json.dumps(cluster_tags, sort_keys=True, indent=4))"
   ]
  },
  {
   "cell_type": "code",
   "execution_count": 292,
   "id": "aac4bc8a-f69e-43f9-a1ea-f85462fd15c6",
   "metadata": {},
   "outputs": [
    {
     "data": {
      "text/html": [
       "<div>\n",
       "<style scoped>\n",
       "    .dataframe tbody tr th:only-of-type {\n",
       "        vertical-align: middle;\n",
       "    }\n",
       "\n",
       "    .dataframe tbody tr th {\n",
       "        vertical-align: top;\n",
       "    }\n",
       "\n",
       "    .dataframe thead th {\n",
       "        text-align: right;\n",
       "    }\n",
       "</style>\n",
       "<table border=\"1\" class=\"dataframe\">\n",
       "  <thead>\n",
       "    <tr style=\"text-align: right;\">\n",
       "      <th></th>\n",
       "      <th>user_id</th>\n",
       "      <th>name</th>\n",
       "      <th>gender</th>\n",
       "      <th>dob</th>\n",
       "      <th>interests</th>\n",
       "      <th>city</th>\n",
       "      <th>occupation</th>\n",
       "      <th>budget</th>\n",
       "      <th>age</th>\n",
       "      <th>age_range</th>\n",
       "      <th>Cluster</th>\n",
       "      <th>Cluster_tag</th>\n",
       "    </tr>\n",
       "  </thead>\n",
       "  <tbody>\n",
       "    <tr>\n",
       "      <th>36</th>\n",
       "      <td>69770</td>\n",
       "      <td>Franklin Mccrory</td>\n",
       "      <td>Male</td>\n",
       "      <td>1968-03-05</td>\n",
       "      <td>Cars and automobiles, Parenting and family</td>\n",
       "      <td>Bolton</td>\n",
       "      <td>Business Consultant</td>\n",
       "      <td>8790</td>\n",
       "      <td>57</td>\n",
       "      <td>56-65</td>\n",
       "      <td>6</td>\n",
       "      <td>Cars and automobiles &amp; Parenting and family</td>\n",
       "    </tr>\n",
       "    <tr>\n",
       "      <th>54</th>\n",
       "      <td>54375</td>\n",
       "      <td>George Greer</td>\n",
       "      <td>Female</td>\n",
       "      <td>1986-07-13</td>\n",
       "      <td>Sports, Cars and automobiles, Science, Finance...</td>\n",
       "      <td>Stockport</td>\n",
       "      <td>Loan Officer</td>\n",
       "      <td>5182</td>\n",
       "      <td>39</td>\n",
       "      <td>36-45</td>\n",
       "      <td>6</td>\n",
       "      <td>Cars and automobiles &amp; Parenting and family</td>\n",
       "    </tr>\n",
       "    <tr>\n",
       "      <th>63</th>\n",
       "      <td>82200</td>\n",
       "      <td>Josephine Jeanlouis</td>\n",
       "      <td>Female</td>\n",
       "      <td>1970-10-22</td>\n",
       "      <td>Cars and automobiles, Parenting and family, Bo...</td>\n",
       "      <td>Manchester</td>\n",
       "      <td>Market Research Analyst</td>\n",
       "      <td>6453</td>\n",
       "      <td>55</td>\n",
       "      <td>56-65</td>\n",
       "      <td>6</td>\n",
       "      <td>Cars and automobiles &amp; Parenting and family</td>\n",
       "    </tr>\n",
       "    <tr>\n",
       "      <th>80</th>\n",
       "      <td>34081</td>\n",
       "      <td>Edward Coffey</td>\n",
       "      <td>Female</td>\n",
       "      <td>1987-02-23</td>\n",
       "      <td>Cars and automobiles, Nature, Finance and inve...</td>\n",
       "      <td>Preston</td>\n",
       "      <td>Public Relations Specialist</td>\n",
       "      <td>6732</td>\n",
       "      <td>38</td>\n",
       "      <td>36-45</td>\n",
       "      <td>6</td>\n",
       "      <td>Cars and automobiles &amp; Parenting and family</td>\n",
       "    </tr>\n",
       "    <tr>\n",
       "      <th>101</th>\n",
       "      <td>88346</td>\n",
       "      <td>Charles Nelson</td>\n",
       "      <td>Male</td>\n",
       "      <td>1979-10-15</td>\n",
       "      <td>Cars and automobiles, Business and entrepreneu...</td>\n",
       "      <td>Manchester</td>\n",
       "      <td>Mechanic</td>\n",
       "      <td>4082</td>\n",
       "      <td>46</td>\n",
       "      <td>46-55</td>\n",
       "      <td>6</td>\n",
       "      <td>Cars and automobiles &amp; Parenting and family</td>\n",
       "    </tr>\n",
       "    <tr>\n",
       "      <th>...</th>\n",
       "      <td>...</td>\n",
       "      <td>...</td>\n",
       "      <td>...</td>\n",
       "      <td>...</td>\n",
       "      <td>...</td>\n",
       "      <td>...</td>\n",
       "      <td>...</td>\n",
       "      <td>...</td>\n",
       "      <td>...</td>\n",
       "      <td>...</td>\n",
       "      <td>...</td>\n",
       "      <td>...</td>\n",
       "    </tr>\n",
       "    <tr>\n",
       "      <th>1452</th>\n",
       "      <td>56632</td>\n",
       "      <td>Donald Payne</td>\n",
       "      <td>Male</td>\n",
       "      <td>1970-01-12</td>\n",
       "      <td>Photography, Finance and investments, Cars and...</td>\n",
       "      <td>Liverpool</td>\n",
       "      <td>Project Manager</td>\n",
       "      <td>4978</td>\n",
       "      <td>55</td>\n",
       "      <td>56-65</td>\n",
       "      <td>6</td>\n",
       "      <td>Cars and automobiles &amp; Parenting and family</td>\n",
       "    </tr>\n",
       "    <tr>\n",
       "      <th>1458</th>\n",
       "      <td>25555</td>\n",
       "      <td>Jimmie Whisler</td>\n",
       "      <td>Female</td>\n",
       "      <td>1998-01-25</td>\n",
       "      <td>Sports, Finance and investments, Sports, Cars ...</td>\n",
       "      <td>Stockport</td>\n",
       "      <td>Financial Analyst</td>\n",
       "      <td>6534</td>\n",
       "      <td>27</td>\n",
       "      <td>26-35</td>\n",
       "      <td>6</td>\n",
       "      <td>Cars and automobiles &amp; Parenting and family</td>\n",
       "    </tr>\n",
       "    <tr>\n",
       "      <th>1467</th>\n",
       "      <td>78602</td>\n",
       "      <td>Todd Kim</td>\n",
       "      <td>Female</td>\n",
       "      <td>1966-05-12</td>\n",
       "      <td>Cooking, Movies, Cars and automobiles</td>\n",
       "      <td>Stockport</td>\n",
       "      <td>Corporate Trainer</td>\n",
       "      <td>7212</td>\n",
       "      <td>59</td>\n",
       "      <td>56-65</td>\n",
       "      <td>6</td>\n",
       "      <td>Cars and automobiles &amp; Parenting and family</td>\n",
       "    </tr>\n",
       "    <tr>\n",
       "      <th>1471</th>\n",
       "      <td>98205</td>\n",
       "      <td>Sara Hunter</td>\n",
       "      <td>Female</td>\n",
       "      <td>1996-06-08</td>\n",
       "      <td>Photography, Cars and automobiles, Food and di...</td>\n",
       "      <td>Preston</td>\n",
       "      <td>Quality Assurance Analyst</td>\n",
       "      <td>4909</td>\n",
       "      <td>29</td>\n",
       "      <td>26-35</td>\n",
       "      <td>6</td>\n",
       "      <td>Cars and automobiles &amp; Parenting and family</td>\n",
       "    </tr>\n",
       "    <tr>\n",
       "      <th>1490</th>\n",
       "      <td>2087</td>\n",
       "      <td>Helen Lancaster</td>\n",
       "      <td>Male</td>\n",
       "      <td>1958-10-22</td>\n",
       "      <td>Business and entrepreneurship, Cars and automo...</td>\n",
       "      <td>Stockport</td>\n",
       "      <td>Quality Assurance Analyst</td>\n",
       "      <td>5336</td>\n",
       "      <td>67</td>\n",
       "      <td>66+</td>\n",
       "      <td>6</td>\n",
       "      <td>Cars and automobiles &amp; Parenting and family</td>\n",
       "    </tr>\n",
       "  </tbody>\n",
       "</table>\n",
       "<p>133 rows × 12 columns</p>\n",
       "</div>"
      ],
      "text/plain": [
       "      user_id                 name  gender         dob  \\\n",
       "36      69770     Franklin Mccrory    Male  1968-03-05   \n",
       "54      54375         George Greer  Female  1986-07-13   \n",
       "63      82200  Josephine Jeanlouis  Female  1970-10-22   \n",
       "80      34081        Edward Coffey  Female  1987-02-23   \n",
       "101     88346       Charles Nelson    Male  1979-10-15   \n",
       "...       ...                  ...     ...         ...   \n",
       "1452    56632         Donald Payne    Male  1970-01-12   \n",
       "1458    25555       Jimmie Whisler  Female  1998-01-25   \n",
       "1467    78602             Todd Kim  Female  1966-05-12   \n",
       "1471    98205          Sara Hunter  Female  1996-06-08   \n",
       "1490     2087      Helen Lancaster    Male  1958-10-22   \n",
       "\n",
       "                                              interests        city  \\\n",
       "36           Cars and automobiles, Parenting and family      Bolton   \n",
       "54    Sports, Cars and automobiles, Science, Finance...   Stockport   \n",
       "63    Cars and automobiles, Parenting and family, Bo...  Manchester   \n",
       "80    Cars and automobiles, Nature, Finance and inve...     Preston   \n",
       "101   Cars and automobiles, Business and entrepreneu...  Manchester   \n",
       "...                                                 ...         ...   \n",
       "1452  Photography, Finance and investments, Cars and...   Liverpool   \n",
       "1458  Sports, Finance and investments, Sports, Cars ...   Stockport   \n",
       "1467              Cooking, Movies, Cars and automobiles   Stockport   \n",
       "1471  Photography, Cars and automobiles, Food and di...     Preston   \n",
       "1490  Business and entrepreneurship, Cars and automo...   Stockport   \n",
       "\n",
       "                       occupation  budget  age age_range  Cluster  \\\n",
       "36            Business Consultant    8790   57     56-65        6   \n",
       "54                   Loan Officer    5182   39     36-45        6   \n",
       "63        Market Research Analyst    6453   55     56-65        6   \n",
       "80    Public Relations Specialist    6732   38     36-45        6   \n",
       "101                      Mechanic    4082   46     46-55        6   \n",
       "...                           ...     ...  ...       ...      ...   \n",
       "1452              Project Manager    4978   55     56-65        6   \n",
       "1458            Financial Analyst    6534   27     26-35        6   \n",
       "1467            Corporate Trainer    7212   59     56-65        6   \n",
       "1471    Quality Assurance Analyst    4909   29     26-35        6   \n",
       "1490    Quality Assurance Analyst    5336   67       66+        6   \n",
       "\n",
       "                                      Cluster_tag  \n",
       "36    Cars and automobiles & Parenting and family  \n",
       "54    Cars and automobiles & Parenting and family  \n",
       "63    Cars and automobiles & Parenting and family  \n",
       "80    Cars and automobiles & Parenting and family  \n",
       "101   Cars and automobiles & Parenting and family  \n",
       "...                                           ...  \n",
       "1452  Cars and automobiles & Parenting and family  \n",
       "1458  Cars and automobiles & Parenting and family  \n",
       "1467  Cars and automobiles & Parenting and family  \n",
       "1471  Cars and automobiles & Parenting and family  \n",
       "1490  Cars and automobiles & Parenting and family  \n",
       "\n",
       "[133 rows x 12 columns]"
      ]
     },
     "execution_count": 292,
     "metadata": {},
     "output_type": "execute_result"
    }
   ],
   "source": [
    "_df[_df['Cluster'] == 6]"
   ]
  },
  {
   "cell_type": "code",
   "execution_count": 180,
   "id": "649201d2-5b45-4a37-ad23-318848dc2beb",
   "metadata": {},
   "outputs": [],
   "source": []
  },
  {
   "cell_type": "code",
   "execution_count": 182,
   "id": "b1554945-7d67-44d8-92c9-ff7f33269767",
   "metadata": {},
   "outputs": [],
   "source": [
    "# Save user graph\n",
    "with open(\"user_graph.pkl\", \"wb\") as f:\n",
    "    pickle.dump(user_graph, f)\n",
    "\n",
    "# Save Leiden partition (cluster assignments)\n",
    "with open(\"leiden_partition.pkl\", \"wb\") as f:\n",
    "    pickle.dump(leiden_partition, f)\n",
    "\n",
    "# Save cluster tags\n",
    "with open(\"cluster_tags.pkl\", \"wb\") as f:\n",
    "    pickle.dump(cluster_tags, f)"
   ]
  },
  {
   "cell_type": "code",
   "execution_count": 223,
   "id": "428df918-911f-4d82-a490-68bd59c05ac8",
   "metadata": {},
   "outputs": [],
   "source": [
    "# Save bipartite graph\n",
    "with open(\"bipartite_graph.pkl\", \"wb\") as f:\n",
    "    pickle.dump(B, f)"
   ]
  },
  {
   "cell_type": "code",
   "execution_count": null,
   "id": "311e55bd-1f68-4d28-83bf-09caf6b09f9e",
   "metadata": {},
   "outputs": [],
   "source": []
  },
  {
   "cell_type": "code",
   "execution_count": 217,
   "id": "ee738b0e-2da0-4766-9d97-091a255203e6",
   "metadata": {},
   "outputs": [],
   "source": [
    "def assign_new_user_to_cluster(new_user_id, new_user_interests):\n",
    "    \"\"\"\n",
    "    Assign a new user to an existing cluster based on shared interests.\n",
    "    \"\"\"\n",
    "    temp_graph = user_graph.copy()\n",
    "\n",
    "    interest_nodes = [n for n in user_graph.nodes if isinstance(n, str) and n not in leiden_partition]\n",
    "    print(\"Sample interest nodes:\", interest_nodes[:10])\n",
    "    \n",
    "    for interest in new_user_interests:\n",
    "        if not temp_graph.has_node(interest):\n",
    "            temp_graph.add_node(interest)\n",
    "        temp_graph.add_edge(new_user_id, interest)\n",
    "\n",
    "    print(\"Connecting to interests in graph:\", [i for i in new_user_interests if i in user_graph])\n",
    "\n",
    "\n",
    "    # Project user-user graph\n",
    "    projected = nx.bipartite.weighted_projected_graph(\n",
    "        temp_graph,\n",
    "        list(leiden_partition.keys()) + [new_user_id]\n",
    "    )\n",
    "\n",
    "    # # Find neighbors (shared interests)\n",
    "    # neighbors = projected.get(new_user_id, {})\n",
    "    # if not neighbors:\n",
    "    #     return {\"cluster\": None, \"tag\": \"Unassigned\"}\n",
    "\n",
    "    # # Most similar neighbor = highest shared interest weight\n",
    "    # most_similar = max(neighbors.items(), key=lambda x: x[1])\n",
    "    \n",
    "\n",
    "    # Find neighbors (shared interests)\n",
    "    if new_user_id not in projected:\n",
    "        return {\"cluster\": None, \"tag\": \"Unassignedp\"}\n",
    "\n",
    "    neighbors = projected[new_user_id]  # This returns a dict-like object\n",
    "    if not neighbors:\n",
    "        return {\"cluster\": None, \"tag\": \"Unassigned\", \"neighs\": neighbors}\n",
    "    else:\n",
    "        return \"Neighbors dey!\"\n",
    "\n",
    "    # # Most similar neighbor = highest shared interest weight\n",
    "    # most_similar = max(neighbors.items(), key=lambda x: x[1]['weight'])\n",
    "\n",
    "\n",
    "    # assigned_cluster = leiden_partition[most_similar[0]]\n",
    "    # tag = cluster_tags.get(assigned_cluster, \"Unknown\")\n",
    "\n",
    "    # return {\"cluster\": assigned_cluster, \"tag\": tag}"
   ]
  },
  {
   "cell_type": "code",
   "execution_count": null,
   "id": "b9724281-4e3b-47ca-a952-fb66b20a8319",
   "metadata": {},
   "outputs": [],
   "source": []
  },
  {
   "cell_type": "code",
   "execution_count": 287,
   "id": "953bbe45-fab2-4693-96f4-44659f19e58c",
   "metadata": {},
   "outputs": [],
   "source": [
    "def assign_new_user_to_cluster(new_user_id, new_user_interests):\n",
    "    \"\"\"\n",
    "    Assign a new user to an existing cluster based on shared interests.\n",
    "    \"\"\"\n",
    "    # # Load saved bipartite graph (users + interests) instead of just user graph\n",
    "    # with open(os.path.join(MODEL_PATH, \"bipartite_graph.pkl\"), \"rb\") as f:\n",
    "    #     bipartite_graph = pickle.load(f)\n",
    "\n",
    "    temp_graph = B.copy() #bipartite_graph.copy()\n",
    "\n",
    "    # Add new user node\n",
    "    temp_graph.add_node(new_user_id, bipartite=0)\n",
    "\n",
    "    for interest in new_user_interests:\n",
    "        # If interest is not already in the graph, skip or optionally add it\n",
    "        if not temp_graph.has_node(interest):\n",
    "            continue\n",
    "        temp_graph.add_edge(new_user_id, interest)\n",
    "\n",
    "    # Project to user-user graph\n",
    "    projected = nx.bipartite.weighted_projected_graph(\n",
    "        temp_graph,\n",
    "        list(leiden_partition.keys()) + [new_user_id]\n",
    "    )\n",
    "\n",
    "    if new_user_id not in projected:\n",
    "        return {\"cluster\": None, \"tag\": \"Unassigned\"}\n",
    "\n",
    "    # Extract neighbors with their weights properly\n",
    "    neighbors = {\n",
    "        n: projected[new_user_id][n].get('weight', 0)\n",
    "        for n in projected[new_user_id]\n",
    "    }\n",
    "\n",
    "    cnt = Counter(neighbors.items())\n",
    "    print(\"Neighs\", neighbors)\n",
    "\n",
    "\n",
    "\n",
    "    top_n = 3\n",
    "\n",
    "    if not neighbors:\n",
    "        return {\"cluster\": None, \"tag\": \"Unassigned\"}\n",
    "\n",
    "    # Sort by similarity weight and select top-N\n",
    "    top_neighbors = sorted(neighbors.items(), key=lambda x: x[1], reverse=True)[:top_n]\n",
    "    print(\"Neighs\", top_neighbors)\n",
    "\n",
    "    # Get the clusters of these top-N neighbors\n",
    "    neighbor_clusters = [\n",
    "        leiden_partition[n[0]] for n in top_neighbors if n[0] in leiden_partition\n",
    "    ]\n",
    "\n",
    "    if neighbor_clusters:\n",
    "        assigned_cluster = Counter(neighbor_clusters).most_common(1)[0][0]\n",
    "        tag = cluster_tags.get(assigned_cluster, \"Unknown\")\n",
    "    else:\n",
    "        assigned_cluster = None\n",
    "        tag = \"Unassigned\"\n",
    "\n",
    "    return {\"cluster\": assigned_cluster, \"tag\": tag}\n"
   ]
  },
  {
   "cell_type": "code",
   "execution_count": 294,
   "id": "191fc81f-ac13-47d8-9bc1-00201bd432f2",
   "metadata": {},
   "outputs": [
    {
     "name": "stdout",
     "output_type": "stream",
     "text": [
      "Neighs {30850: 1, 10514: 2, 97560: 1, 42376: 1, 45567: 1, 88895: 1, 96126: 1, 29720: 1, 1571: 1, 40012: 1, 4294: 1, 78722: 1, 65967: 1, 576: 1, 8258: 1, 2130: 1, 40039: 1, 79995: 1, 76930: 1, 79023: 1, 14530: 1, 50381: 1, 25842: 2, 21796: 1, 33076: 1, 2363: 1, 59809: 1, 40360: 1, 77382: 1, 46678: 1, 11864: 2, 37476: 1, 34452: 1, 30419: 1, 65242: 1, 41762: 1, 34606: 1, 16302: 1, 47454: 1, 4646: 1, 586: 1, 88064: 1, 82020: 1, 65744: 1, 98556: 1, 21757: 1, 59650: 1, 98584: 1, 78112: 1, 50615: 1, 69067: 1, 49674: 1, 75299: 1, 75310: 1, 69229: 1, 28287: 1, 64131: 1, 45758: 1, 89799: 1, 42700: 1, 57096: 1, 34574: 1, 15153: 1, 62334: 1, 53142: 1, 19357: 1, 62393: 1, 52177: 1, 61393: 1, 96309: 1, 92221: 1, 18554: 1, 4222: 1, 2175: 1, 82193: 1, 36138: 1, 19824: 1, 76179: 1, 70156: 1, 50767: 1, 11923: 1, 80648: 1, 25453: 1, 30573: 1, 85889: 1, 98296: 1, 92131: 1, 24548: 1, 22515: 1, 45120: 1, 11374: 1, 33460: 1, 66323: 1, 92485: 1, 37238: 1, 78213: 1, 6176: 1, 94778: 1, 27734: 1, 20613: 1, 4233: 1, 52885: 1, 65190: 1, 80574: 1, 91840: 1, 66270: 1, 1350: 1, 60744: 1, 39332: 1, 49661: 1, 77652: 1, 31745: 1, 55376: 1, 98400: 1, 56430: 1, 68718: 1, 58535: 1, 73909: 1, 13507: 1, 78057: 1, 52507: 1, 15664: 1, 92534: 1, 24036: 1, 8711: 1, 17973: 1, 85583: 1, 12897: 1, 47746: 1, 53930: 1, 75439: 1, 50863: 1, 7864: 1, 37630: 1, 35641: 1, 76634: 1, 17248: 1, 61297: 1, 1967: 2, 78823: 2, 71660: 1, 9843: 1, 49183: 1, 52459: 1, 64846: 1, 88808: 1, 79844: 1, 26638: 1, 36906: 1, 41047: 1, 15603: 1, 53528: 1, 1333: 1, 77204: 1, 79278: 1, 25012: 1, 17962: 1, 66150: 1, 45763: 1, 7896: 1, 1939: 1, 71576: 2, 34718: 1, 14269: 1, 58303: 1, 48079: 1, 36507: 1, 9888: 1, 1719: 1, 6844: 1, 92556: 1, 41488: 1, 58992: 1, 56098: 1, 44324: 1, 65350: 1, 59397: 1, 70670: 1, 95261: 2, 13344: 1, 66599: 1, 32866: 1, 98444: 1, 57504: 1, 28853: 1, 94405: 1, 68845: 1, 82212: 1, 6484: 1, 87445: 1, 4546: 1, 78331: 1, 1550: 1, 25135: 1, 88639: 1, 94893: 1, 65202: 1, 4791: 1, 56014: 1, 34591: 1, 68414: 1, 834: 1, 33609: 2, 43854: 1, 857: 1, 30579: 1, 39875: 1, 49149: 1, 51267: 1, 2437: 1, 4625: 1, 29506: 1, 18733: 2, 91488: 2, 80996: 1, 18293: 1, 15467: 1, 94421: 1, 64775: 1, 76610: 1, 50079: 1, 40942: 1, 81436: 1, 64112: 1, 34654: 1, 41929: 1, 73692: 1, 36981: 1, 69026: 1, 52926: 1, 33563: 1, 57235: 1, 36795: 1, 60477: 1, 95343: 1, 55432: 1, 75962: 2, 90464: 1, 95602: 1, 57863: 1, 39432: 1, 86547: 1, 74337: 1, 9846: 1, 35481: 1, 60107: 1, 92896: 1, 16130: 1, 44970: 1, 2997: 1, 42948: 1, 50179: 1, 38936: 2, 54375: 1, 41131: 1, 93365: 2, 73918: 1, 38092: 2, 17614: 1, 56539: 1, 80128: 1, 24831: 1, 15627: 1, 30999: 1, 34081: 1, 46442: 1, 53616: 1, 1415: 1, 89480: 1, 23958: 1, 38309: 1, 14779: 1, 9661: 1, 4689: 1, 13915: 1, 11896: 1, 9854: 1, 31403: 1, 81582: 1, 30418: 1, 31463: 1, 52979: 1, 37624: 1, 24379: 2, 38721: 2, 43850: 1, 82774: 1, 77677: 1, 56276: 1, 7145: 1, 22507: 1, 97796: 1, 95285: 1, 75831: 1, 58965: 1, 74859: 1, 11969: 1, 16099: 1, 97650: 1, 50557: 1, 59269: 1, 98205: 1, 59923: 1, 19525: 1, 45692: 1, 30337: 1, 5763: 1, 27785: 1, 46218: 1, 98518: 2, 17673: 2, 75534: 1, 54569: 1, 16784: 2, 85907: 2, 73218: 1, 42506: 2, 67710: 1, 39591: 2, 97977: 1, 83143: 1, 45326: 1, 2087: 1, 82200: 1, 88346: 2, 17774: 3, 92530: 1, 7749: 2, 69326: 1, 78602: 3, 92169: 1, 22542: 1, 47440: 1, 37379: 1, 31334: 2, 789: 1, 21288: 1, 83040: 1, 81144: 1, 56632: 1, 14039: 1, 32593: 1, 81968: 2, 14439: 2, 40204: 1, 67927: 2, 7859: 1, 25555: 1, 88366: 1, 88401: 1, 43384: 1, 19003: 1, 52491: 1, 14107: 1, 41996: 1, 56338: 1, 1046: 1, 66583: 1, 36905: 1, 50283: 1, 15496: 1, 69770: 1, 82150: 1, 64833: 1, 38250: 1, 59781: 1, 32142: 1, 91598: 1, 38358: 1, 1551: 1, 6730: 1, 13929: 1, 18054: 1, 49809: 1, 86689: 1, 2743: 1, 31419: 1, 85699: 1, 90867: 1, 24463: 1, 20428: 1, 95182: 1, 26587: 1, 16362: 1, 65771: 1, 51491: 1, 38433: 1, 88879: 1, 70552: 1, 38671: 1, 82039: 1, 69044: 1, 36956: 1, 46421: 1, 75663: 1}\n",
      "Neighs [(17774, 3), (78602, 3), (10514, 2)]\n"
     ]
    },
    {
     "data": {
      "text/plain": [
       "{'cluster': 6, 'tag': 'Cars and automobiles & Parenting and family'}"
      ]
     },
     "execution_count": 294,
     "metadata": {},
     "output_type": "execute_result"
    }
   ],
   "source": [
    "# assign_new_user_to_cluster('M0185', ['Fashion', 'DIY and crafts', 'Outdoor activities'])\n",
    "# assign_new_user_to_cluster('M0185', ['Business and entrepreneurship'])\n",
    "# assign_new_user_to_cluster('M0175', ['DIY and crafts'])\n",
    "# assign_new_user_to_cluster('M0175', ['Travel', 'Movies', 'Nature'])\n",
    "# assign_new_user_to_cluster('M0175', ['Science', 'Beauty', 'Gardening', 'Science'])\n",
    "assign_new_user_to_cluster('M0175', ['Cooking','Movies', 'Cars and automobiles'])"
   ]
  },
  {
   "cell_type": "code",
   "execution_count": 261,
   "id": "30d623db-7ede-4ff4-a4c6-a2ada42c1130",
   "metadata": {},
   "outputs": [
    {
     "data": {
      "text/plain": [
       "{7: 'Nature & Travel',\n",
       " 1: 'Beauty & Business and entrepreneurship',\n",
       " 3: 'Fashion & Gaming',\n",
       " 2: 'DIY and crafts & Travel',\n",
       " 5: 'Music & Fitness',\n",
       " 4: 'Education and learning & Art',\n",
       " 6: 'Cars and automobiles & Parenting and family'}"
      ]
     },
     "execution_count": 261,
     "metadata": {},
     "output_type": "execute_result"
    }
   ],
   "source": [
    "cluster_tags"
   ]
  },
  {
   "cell_type": "code",
   "execution_count": 264,
   "id": "7969e986-3640-4e10-8eb7-bdfeee0f1014",
   "metadata": {},
   "outputs": [
    {
     "name": "stdout",
     "output_type": "stream",
     "text": [
      "True\n"
     ]
    }
   ],
   "source": [
    "print(75722 in user_graph)  # Should be True if it exists"
   ]
  },
  {
   "cell_type": "code",
   "execution_count": 248,
   "id": "96a59e3b-d4cc-4008-9a7a-e21dd3441eb9",
   "metadata": {},
   "outputs": [
    {
     "name": "stdout",
     "output_type": "stream",
     "text": [
      "Cluster sizes: Counter({1: 354, 2: 305, 3: 281, 4: 177, 5: 143, 6: 133, 7: 107})\n"
     ]
    }
   ],
   "source": [
    "print(\"Cluster sizes:\", Counter(leiden_partition.values()))"
   ]
  },
  {
   "cell_type": "code",
   "execution_count": null,
   "id": "c648036f-7163-45dd-8e67-85f603b1e4ab",
   "metadata": {},
   "outputs": [],
   "source": []
  },
  {
   "cell_type": "code",
   "execution_count": null,
   "id": "daecb2eb-ede3-447d-9b97-0ff436b15055",
   "metadata": {},
   "outputs": [],
   "source": [
    "# Clean and parse the Interests column into a list\n",
    "# _df['Interests'] = _df['Interests'].apply(lambda x: [i.strip().strip(\"'\") for i in x.split(',')])"
   ]
  },
  {
   "cell_type": "code",
   "execution_count": 143,
   "id": "3774ff6a-0c96-4b32-af44-f68ad0e1672f",
   "metadata": {},
   "outputs": [],
   "source": [
    "# # Create a bipartite graph (users <-> interests)\n",
    "# B = nx.Graph()\n",
    "\n",
    "# # Add users and interests as nodes\n",
    "# for index, row in _df.iterrows():\n",
    "#     user_id = row['UserID']\n",
    "#     B.add_node(user_id, bipartite=0)  # Users layer\n",
    "#     for interest in row['Interests']:\n",
    "#         B.add_node(interest, bipartite=1)  # Interests layer\n",
    "#         B.add_edge(user_id, interest)\n",
    "\n",
    "# # Get user nodes\n",
    "# # user_nodes = [n for n, d in B.nodes(data=True) if d['bipartite'] == 0]\n",
    "# user_nodes = sorted([n for n, d in B.nodes(data=True) if d['bipartite'] == 0])\n",
    "\n",
    "# #Project bipartite graph to user-user graph based on shared interests\n",
    "# user_graph = nx.bipartite.weighted_projected_graph(B, user_nodes)"
   ]
  },
  {
   "cell_type": "code",
   "execution_count": 130,
   "id": "e6307dcd-a81e-48a2-a6f4-82b6c0703349",
   "metadata": {},
   "outputs": [],
   "source": [
    "# import igraph as ig\n",
    "# import leidenalg\n",
    "\n",
    "# # Step 1: Convert NetworkX user_graph to igraph\n",
    "# nx_to_ig_mapping = {node: idx for idx, node in enumerate(user_graph.nodes())}\n",
    "# ig_to_nx_mapping = {idx: node for node, idx in nx_to_ig_mapping.items()}\n",
    "\n",
    "# edges = [(nx_to_ig_mapping[u], nx_to_ig_mapping[v], w['weight']) for u, v, w in user_graph.edges(data=True)]\n",
    "\n",
    "# g = ig.Graph()\n",
    "# g.add_vertices(len(user_graph.nodes()))\n",
    "# g.add_edges([(u, v) for u, v, _ in edges])\n",
    "# g.es['weight'] = [w for _, _, w in edges]\n",
    "\n",
    "# # Step 2: Apply Leiden algorithm\n",
    "# partition = leidenalg.find_partition(g, leidenalg.ModularityVertexPartition, weights='weight', seed=42) # Set fixed random seed\n",
    "\n",
    "# # Step 3: Convert partition to user_id -> cluster mapping\n",
    "# leiden_partition = {}\n",
    "# for cluster_id, cluster in enumerate(partition):\n",
    "#     for ig_node_id in cluster:\n",
    "#         user_id = ig_to_nx_mapping[ig_node_id]\n",
    "#         leiden_partition[user_id] = cluster_id\n",
    "\n",
    "# # Step 4: Add cluster labels back to your original DataFrame\n",
    "# _df['Cluster'] = _df['UserID'].map(leiden_partition)\n",
    "\n",
    "# # Step 5: Generate cluster tags like before\n",
    "# from collections import defaultdict, Counter\n",
    "\n",
    "# top_n = 2\n",
    "# cluster_interests = defaultdict(list)\n",
    "\n",
    "# for _, row in _df.iterrows():\n",
    "#     user_id = row[\"UserID\"]\n",
    "#     cluster = leiden_partition.get(user_id)\n",
    "#     interests = row[\"Interests\"]\n",
    "#     if cluster is not None:\n",
    "#         cluster_interests[cluster].extend(interests)\n",
    "\n",
    "# cluster_tags = {}\n",
    "# for cluster, all_interests in cluster_interests.items():\n",
    "#     top_interests = [x[0] for x in Counter(all_interests).most_common(top_n)]\n",
    "#     tag = \" & \".join(top_interests)\n",
    "#     cluster_tags[cluster] = tag\n",
    "\n",
    "# _df[\"Cluster_tag\"] = _df[\"Cluster\"].map(cluster_tags)\n"
   ]
  }
 ],
 "metadata": {
  "kernelspec": {
   "display_name": "Python 3 (ipykernel)",
   "language": "python",
   "name": "python3"
  },
  "language_info": {
   "codemirror_mode": {
    "name": "ipython",
    "version": 3
   },
   "file_extension": ".py",
   "mimetype": "text/x-python",
   "name": "python",
   "nbconvert_exporter": "python",
   "pygments_lexer": "ipython3",
   "version": "3.12.9"
  }
 },
 "nbformat": 4,
 "nbformat_minor": 5
}
