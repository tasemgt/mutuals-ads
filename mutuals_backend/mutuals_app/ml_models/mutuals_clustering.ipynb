{
 "cells": [
  {
   "cell_type": "code",
   "execution_count": 316,
   "id": "f11dced7-e878-49d9-a290-8b48a6a2a58b",
   "metadata": {},
   "outputs": [],
   "source": [
    "from sklearn.cluster import KMeans\n",
    "from sklearn.preprocessing import MultiLabelBinarizer, StandardScaler\n",
    "import pandas as pd\n",
    "import joblib\n",
    "import numpy as np\n",
    "import matplotlib.pyplot as plt\n",
    "import seaborn as sns\n",
    "import networkx as nx\n",
    "from collections import Counter, defaultdict\n",
    "import igraph as ig\n",
    "import leidenalg\n",
    "import random\n",
    "import pickle"
   ]
  },
  {
   "cell_type": "code",
   "execution_count": 3,
   "id": "f62f0caf-6801-488f-b8d4-0441da34413f",
   "metadata": {},
   "outputs": [
    {
     "name": "stdout",
     "output_type": "stream",
     "text": [
      "Python 3.12.9\n"
     ]
    }
   ],
   "source": [
    "!python --version"
   ]
  },
  {
   "cell_type": "code",
   "execution_count": 317,
   "id": "2d3191a1-7826-4580-a8a9-871bb660bd7f",
   "metadata": {},
   "outputs": [
    {
     "data": {
      "text/plain": [
       "'0.13.2'"
      ]
     },
     "execution_count": 317,
     "metadata": {},
     "output_type": "execute_result"
    }
   ],
   "source": [
    "sns.__version__"
   ]
  },
  {
   "cell_type": "code",
   "execution_count": 4,
   "id": "a664c337-a6ca-44f2-9ef4-88e1dbd76c9a",
   "metadata": {},
   "outputs": [],
   "source": [
    "pd.set_option(\"display.max_columns\", None)\n",
    "# pd.set_option(\"display.max_rows\", None)"
   ]
  },
  {
   "cell_type": "code",
   "execution_count": 5,
   "id": "3e78ef4b-2f9b-4996-a942-10f6f388e70f",
   "metadata": {},
   "outputs": [],
   "source": [
    "# Clustered data\n",
    "# df = pd.read_csv(\"clustered_users.csv\")\n",
    "df = pd.read_csv(\"../../data/sm_data.csv\")"
   ]
  },
  {
   "cell_type": "code",
   "execution_count": 6,
   "id": "d77362ed-ee13-4dd8-aef3-90e4044157f5",
   "metadata": {},
   "outputs": [
    {
     "data": {
      "text/html": [
       "<div>\n",
       "<style scoped>\n",
       "    .dataframe tbody tr th:only-of-type {\n",
       "        vertical-align: middle;\n",
       "    }\n",
       "\n",
       "    .dataframe tbody tr th {\n",
       "        vertical-align: top;\n",
       "    }\n",
       "\n",
       "    .dataframe thead th {\n",
       "        text-align: right;\n",
       "    }\n",
       "</style>\n",
       "<table border=\"1\" class=\"dataframe\">\n",
       "  <thead>\n",
       "    <tr style=\"text-align: right;\">\n",
       "      <th></th>\n",
       "      <th>UserID</th>\n",
       "      <th>Name</th>\n",
       "      <th>Gender</th>\n",
       "      <th>DOB</th>\n",
       "      <th>Interests</th>\n",
       "      <th>City</th>\n",
       "      <th>Occupation</th>\n",
       "      <th>Budget (£)</th>\n",
       "      <th>Age</th>\n",
       "      <th>Age Range</th>\n",
       "    </tr>\n",
       "  </thead>\n",
       "  <tbody>\n",
       "    <tr>\n",
       "      <th>0</th>\n",
       "      <td>75722</td>\n",
       "      <td>Kevin Tabor</td>\n",
       "      <td>Male</td>\n",
       "      <td>1962-09-02</td>\n",
       "      <td>'Nature', 'Parenting and family'</td>\n",
       "      <td>Liverpool</td>\n",
       "      <td>Project Manager</td>\n",
       "      <td>6376</td>\n",
       "      <td>63</td>\n",
       "      <td>56-65</td>\n",
       "    </tr>\n",
       "    <tr>\n",
       "      <th>1</th>\n",
       "      <td>80185</td>\n",
       "      <td>Bethany Buckley</td>\n",
       "      <td>Male</td>\n",
       "      <td>1983-07-28</td>\n",
       "      <td>'Business and entrepreneurship'</td>\n",
       "      <td>Stockport</td>\n",
       "      <td>Data Analyst</td>\n",
       "      <td>4205</td>\n",
       "      <td>42</td>\n",
       "      <td>36-45</td>\n",
       "    </tr>\n",
       "    <tr>\n",
       "      <th>2</th>\n",
       "      <td>19865</td>\n",
       "      <td>Marsha Ayala</td>\n",
       "      <td>Male</td>\n",
       "      <td>1958-12-18</td>\n",
       "      <td>'Fashion', 'DIY and crafts', 'Outdoor activities'</td>\n",
       "      <td>Bolton</td>\n",
       "      <td>Cleaner</td>\n",
       "      <td>2725</td>\n",
       "      <td>67</td>\n",
       "      <td>66+</td>\n",
       "    </tr>\n",
       "    <tr>\n",
       "      <th>3</th>\n",
       "      <td>76700</td>\n",
       "      <td>Sheryl Hower</td>\n",
       "      <td>Male</td>\n",
       "      <td>1964-04-12</td>\n",
       "      <td>'Business and entrepreneurship'</td>\n",
       "      <td>Stockport</td>\n",
       "      <td>Quality Assurance Analyst</td>\n",
       "      <td>4556</td>\n",
       "      <td>61</td>\n",
       "      <td>56-65</td>\n",
       "    </tr>\n",
       "    <tr>\n",
       "      <th>4</th>\n",
       "      <td>92992</td>\n",
       "      <td>Robin Garrett</td>\n",
       "      <td>Male</td>\n",
       "      <td>1975-11-26</td>\n",
       "      <td>'Travel'</td>\n",
       "      <td>Liverpool</td>\n",
       "      <td>Barista</td>\n",
       "      <td>2322</td>\n",
       "      <td>50</td>\n",
       "      <td>46-55</td>\n",
       "    </tr>\n",
       "  </tbody>\n",
       "</table>\n",
       "</div>"
      ],
      "text/plain": [
       "   UserID             Name Gender         DOB  \\\n",
       "0   75722      Kevin Tabor   Male  1962-09-02   \n",
       "1   80185  Bethany Buckley   Male  1983-07-28   \n",
       "2   19865     Marsha Ayala   Male  1958-12-18   \n",
       "3   76700     Sheryl Hower   Male  1964-04-12   \n",
       "4   92992    Robin Garrett   Male  1975-11-26   \n",
       "\n",
       "                                           Interests       City  \\\n",
       "0                   'Nature', 'Parenting and family'  Liverpool   \n",
       "1                    'Business and entrepreneurship'  Stockport   \n",
       "2  'Fashion', 'DIY and crafts', 'Outdoor activities'     Bolton   \n",
       "3                    'Business and entrepreneurship'  Stockport   \n",
       "4                                           'Travel'  Liverpool   \n",
       "\n",
       "                  Occupation  Budget (£)  Age Age Range  \n",
       "0            Project Manager        6376   63     56-65  \n",
       "1               Data Analyst        4205   42     36-45  \n",
       "2                    Cleaner        2725   67       66+  \n",
       "3  Quality Assurance Analyst        4556   61     56-65  \n",
       "4                    Barista        2322   50     46-55  "
      ]
     },
     "execution_count": 6,
     "metadata": {},
     "output_type": "execute_result"
    }
   ],
   "source": [
    "df.head()"
   ]
  },
  {
   "cell_type": "code",
   "execution_count": 25,
   "id": "fb7d9efd-df6b-4e2b-a402-4a6b4b83baa5",
   "metadata": {},
   "outputs": [
    {
     "data": {
      "text/plain": [
       "(10000, 10)"
      ]
     },
     "execution_count": 25,
     "metadata": {},
     "output_type": "execute_result"
    }
   ],
   "source": [
    "df.shape"
   ]
  },
  {
   "cell_type": "code",
   "execution_count": 154,
   "id": "6f9ccd31-a8e3-4bfb-bbc0-a4ca24662f78",
   "metadata": {},
   "outputs": [],
   "source": [
    "df_train = df.head(1500) #Using 1500 records for faster cliustering "
   ]
  },
  {
   "cell_type": "code",
   "execution_count": 206,
   "id": "88030ae7-b8df-4e25-88f8-9ddf5131a04b",
   "metadata": {},
   "outputs": [],
   "source": [
    "_df_ = df_train.copy()"
   ]
  },
  {
   "cell_type": "code",
   "execution_count": 212,
   "id": "bce2012b-cf7c-4c25-b4a8-c341bf6b7079",
   "metadata": {},
   "outputs": [
    {
     "data": {
      "text/plain": [
       "str"
      ]
     },
     "execution_count": 212,
     "metadata": {},
     "output_type": "execute_result"
    }
   ],
   "source": [
    "type(_df_['Interests'][0][0])"
   ]
  },
  {
   "cell_type": "code",
   "execution_count": 208,
   "id": "2be12845-bc33-41da-9d66-7b30832ab4b3",
   "metadata": {},
   "outputs": [],
   "source": [
    "# Clean and parse the Interests column into a list\n",
    "_df_['Interests'] = _df_['Interests'].apply(lambda x: [i.strip().strip(\"'\") for i in x.split(',')])"
   ]
  },
  {
   "cell_type": "code",
   "execution_count": 157,
   "id": "e00dde05-5434-4232-b85f-71dd69e08836",
   "metadata": {},
   "outputs": [
    {
     "data": {
      "text/plain": [
       "(1500, 10)"
      ]
     },
     "execution_count": 157,
     "metadata": {},
     "output_type": "execute_result"
    }
   ],
   "source": [
    "_df.shape"
   ]
  },
  {
   "cell_type": "code",
   "execution_count": 158,
   "id": "ba7a2fdb-a2e4-47f8-9894-ad69e1d3a360",
   "metadata": {},
   "outputs": [
    {
     "data": {
      "text/html": [
       "<div>\n",
       "<style scoped>\n",
       "    .dataframe tbody tr th:only-of-type {\n",
       "        vertical-align: middle;\n",
       "    }\n",
       "\n",
       "    .dataframe tbody tr th {\n",
       "        vertical-align: top;\n",
       "    }\n",
       "\n",
       "    .dataframe thead th {\n",
       "        text-align: right;\n",
       "    }\n",
       "</style>\n",
       "<table border=\"1\" class=\"dataframe\">\n",
       "  <thead>\n",
       "    <tr style=\"text-align: right;\">\n",
       "      <th></th>\n",
       "      <th>UserID</th>\n",
       "      <th>Name</th>\n",
       "      <th>Gender</th>\n",
       "      <th>DOB</th>\n",
       "      <th>Interests</th>\n",
       "      <th>City</th>\n",
       "      <th>Occupation</th>\n",
       "      <th>Budget (£)</th>\n",
       "      <th>Age</th>\n",
       "      <th>Age Range</th>\n",
       "    </tr>\n",
       "  </thead>\n",
       "  <tbody>\n",
       "    <tr>\n",
       "      <th>0</th>\n",
       "      <td>75722</td>\n",
       "      <td>Kevin Tabor</td>\n",
       "      <td>Male</td>\n",
       "      <td>1962-09-02</td>\n",
       "      <td>[Nature, Parenting and family]</td>\n",
       "      <td>Liverpool</td>\n",
       "      <td>Project Manager</td>\n",
       "      <td>6376</td>\n",
       "      <td>63</td>\n",
       "      <td>56-65</td>\n",
       "    </tr>\n",
       "    <tr>\n",
       "      <th>1</th>\n",
       "      <td>80185</td>\n",
       "      <td>Bethany Buckley</td>\n",
       "      <td>Male</td>\n",
       "      <td>1983-07-28</td>\n",
       "      <td>[Business and entrepreneurship]</td>\n",
       "      <td>Stockport</td>\n",
       "      <td>Data Analyst</td>\n",
       "      <td>4205</td>\n",
       "      <td>42</td>\n",
       "      <td>36-45</td>\n",
       "    </tr>\n",
       "    <tr>\n",
       "      <th>2</th>\n",
       "      <td>19865</td>\n",
       "      <td>Marsha Ayala</td>\n",
       "      <td>Male</td>\n",
       "      <td>1958-12-18</td>\n",
       "      <td>[Fashion, DIY and crafts, Outdoor activities]</td>\n",
       "      <td>Bolton</td>\n",
       "      <td>Cleaner</td>\n",
       "      <td>2725</td>\n",
       "      <td>67</td>\n",
       "      <td>66+</td>\n",
       "    </tr>\n",
       "  </tbody>\n",
       "</table>\n",
       "</div>"
      ],
      "text/plain": [
       "   UserID             Name Gender         DOB  \\\n",
       "0   75722      Kevin Tabor   Male  1962-09-02   \n",
       "1   80185  Bethany Buckley   Male  1983-07-28   \n",
       "2   19865     Marsha Ayala   Male  1958-12-18   \n",
       "\n",
       "                                       Interests       City       Occupation  \\\n",
       "0                 [Nature, Parenting and family]  Liverpool  Project Manager   \n",
       "1                [Business and entrepreneurship]  Stockport     Data Analyst   \n",
       "2  [Fashion, DIY and crafts, Outdoor activities]     Bolton          Cleaner   \n",
       "\n",
       "   Budget (£)  Age Age Range  \n",
       "0        6376   63     56-65  \n",
       "1        4205   42     36-45  \n",
       "2        2725   67       66+  "
      ]
     },
     "execution_count": 158,
     "metadata": {},
     "output_type": "execute_result"
    }
   ],
   "source": [
    "_df.head(3)"
   ]
  },
  {
   "cell_type": "code",
   "execution_count": 204,
   "id": "5e0f334e-d22e-4f38-a0b3-56c9fc65371c",
   "metadata": {},
   "outputs": [
    {
     "data": {
      "text/html": [
       "<div>\n",
       "<style scoped>\n",
       "    .dataframe tbody tr th:only-of-type {\n",
       "        vertical-align: middle;\n",
       "    }\n",
       "\n",
       "    .dataframe tbody tr th {\n",
       "        vertical-align: top;\n",
       "    }\n",
       "\n",
       "    .dataframe thead th {\n",
       "        text-align: right;\n",
       "    }\n",
       "</style>\n",
       "<table border=\"1\" class=\"dataframe\">\n",
       "  <thead>\n",
       "    <tr style=\"text-align: right;\">\n",
       "      <th></th>\n",
       "      <th>user_id</th>\n",
       "      <th>name</th>\n",
       "      <th>gender</th>\n",
       "      <th>dob</th>\n",
       "      <th>interests</th>\n",
       "      <th>city</th>\n",
       "      <th>occupation</th>\n",
       "      <th>budget</th>\n",
       "      <th>age</th>\n",
       "      <th>age_range</th>\n",
       "      <th>Cluster</th>\n",
       "      <th>Cluster_tag</th>\n",
       "    </tr>\n",
       "  </thead>\n",
       "  <tbody>\n",
       "    <tr>\n",
       "      <th>0</th>\n",
       "      <td>75722</td>\n",
       "      <td>Kevin Tabor</td>\n",
       "      <td>Male</td>\n",
       "      <td>1962-09-02</td>\n",
       "      <td>Nature, Parenting and family</td>\n",
       "      <td>Liverpool</td>\n",
       "      <td>Project Manager</td>\n",
       "      <td>6376</td>\n",
       "      <td>63</td>\n",
       "      <td>56-65</td>\n",
       "      <td>7</td>\n",
       "      <td>Nature &amp; Travel</td>\n",
       "    </tr>\n",
       "    <tr>\n",
       "      <th>1</th>\n",
       "      <td>80185</td>\n",
       "      <td>Bethany Buckley</td>\n",
       "      <td>Male</td>\n",
       "      <td>1983-07-28</td>\n",
       "      <td>Business and entrepreneurship</td>\n",
       "      <td>Stockport</td>\n",
       "      <td>Data Analyst</td>\n",
       "      <td>4205</td>\n",
       "      <td>42</td>\n",
       "      <td>36-45</td>\n",
       "      <td>1</td>\n",
       "      <td>Beauty &amp; Business and entrepreneurship</td>\n",
       "    </tr>\n",
       "    <tr>\n",
       "      <th>2</th>\n",
       "      <td>19865</td>\n",
       "      <td>Marsha Ayala</td>\n",
       "      <td>Male</td>\n",
       "      <td>1958-12-18</td>\n",
       "      <td>Fashion, DIY and crafts, Outdoor activities</td>\n",
       "      <td>Bolton</td>\n",
       "      <td>Cleaner</td>\n",
       "      <td>2725</td>\n",
       "      <td>67</td>\n",
       "      <td>66+</td>\n",
       "      <td>3</td>\n",
       "      <td>Fashion &amp; Gaming</td>\n",
       "    </tr>\n",
       "  </tbody>\n",
       "</table>\n",
       "</div>"
      ],
      "text/plain": [
       "   user_id             name gender         dob  \\\n",
       "0    75722      Kevin Tabor   Male  1962-09-02   \n",
       "1    80185  Bethany Buckley   Male  1983-07-28   \n",
       "2    19865     Marsha Ayala   Male  1958-12-18   \n",
       "\n",
       "                                     interests       city       occupation  \\\n",
       "0                 Nature, Parenting and family  Liverpool  Project Manager   \n",
       "1                Business and entrepreneurship  Stockport     Data Analyst   \n",
       "2  Fashion, DIY and crafts, Outdoor activities     Bolton          Cleaner   \n",
       "\n",
       "   budget  age age_range  Cluster                             Cluster_tag  \n",
       "0    6376   63     56-65        7                         Nature & Travel  \n",
       "1    4205   42     36-45        1  Beauty & Business and entrepreneurship  \n",
       "2    2725   67       66+        3                        Fashion & Gaming  "
      ]
     },
     "execution_count": 204,
     "metadata": {},
     "output_type": "execute_result"
    }
   ],
   "source": [
    "_df.head(3)"
   ]
  },
  {
   "cell_type": "markdown",
   "id": "9a46f6ac-8989-4075-842a-0c5242458337",
   "metadata": {},
   "source": [
    "### Start Process!!"
   ]
  },
  {
   "cell_type": "markdown",
   "id": "69d6ebdf-e065-4540-9595-2df29004347d",
   "metadata": {},
   "source": [
    "### Dataframe in use -> _df "
   ]
  },
  {
   "cell_type": "code",
   "execution_count": 159,
   "id": "c95f5ea6-ff3a-4d94-a3c0-bd64df9c7ab0",
   "metadata": {},
   "outputs": [],
   "source": [
    "# --- 2. Create bipartite graph (Users <-> Interests) ---\n",
    "B = nx.Graph()\n",
    "\n",
    "# Add users and interests as nodes\n",
    "for _, row in _df.iterrows():\n",
    "    user_id = row['UserID']\n",
    "    B.add_node(user_id, bipartite=0)  # User nodes\n",
    "    for interest in row['Interests']:\n",
    "        B.add_node(interest, bipartite=1)  # Interest nodes\n",
    "        B.add_edge(user_id, interest)\n",
    "\n",
    "# Separate user nodes\n",
    "# user_nodes = [n for n, d in B.nodes(data=True) if d['bipartite'] == 0]\n",
    "user_nodes = sorted([n for n, d in B.nodes(data=True) if d['bipartite'] == 0])"
   ]
  },
  {
   "cell_type": "code",
   "execution_count": 160,
   "id": "eb20f886-72b4-4b2c-a43f-2f920503a32d",
   "metadata": {},
   "outputs": [
    {
     "data": {
      "text/plain": [
       "1500"
      ]
     },
     "execution_count": 160,
     "metadata": {},
     "output_type": "execute_result"
    }
   ],
   "source": [
    "len(user_nodes)"
   ]
  },
  {
   "cell_type": "code",
   "execution_count": 161,
   "id": "2cb97a65-4b10-43ef-9453-c90224a5b3ba",
   "metadata": {},
   "outputs": [
    {
     "data": {
      "text/plain": [
       "<networkx.classes.graph.Graph at 0x31c6f4890>"
      ]
     },
     "execution_count": 161,
     "metadata": {},
     "output_type": "execute_result"
    }
   ],
   "source": [
    "B"
   ]
  },
  {
   "cell_type": "code",
   "execution_count": 162,
   "id": "4109fc66-ac77-42c9-90da-6d93cf46c9e2",
   "metadata": {},
   "outputs": [],
   "source": [
    "# --- 3. Project bipartite to user-user graph based on shared interests ---\n",
    "user_graph = nx.bipartite.weighted_projected_graph(B, user_nodes)"
   ]
  },
  {
   "cell_type": "code",
   "execution_count": 163,
   "id": "63f0dfa3-24cc-42ff-81a1-8497665fb67a",
   "metadata": {},
   "outputs": [
    {
     "data": {
      "text/plain": [
       "<networkx.classes.graph.Graph at 0x319047140>"
      ]
     },
     "execution_count": 163,
     "metadata": {},
     "output_type": "execute_result"
    }
   ],
   "source": [
    "user_graph"
   ]
  },
  {
   "cell_type": "code",
   "execution_count": 164,
   "id": "619a1bbe-d541-47c7-bd65-3ed02600240e",
   "metadata": {},
   "outputs": [],
   "source": [
    "# --- 4. Start Leiden ---\n",
    "\n",
    "# Convert NetworkX graph to iGraph\n",
    "edges = [(u, v, d['weight']) for u, v, d in user_graph.edges(data=True)]\n",
    "G_ig = ig.Graph.TupleList(edges, weights=True, directed=False)"
   ]
  },
  {
   "cell_type": "code",
   "execution_count": 190,
   "id": "7a9b9b43-bcc6-4c0d-a489-ab425693843f",
   "metadata": {},
   "outputs": [],
   "source": [
    "# ####### --- Run Leiden multiple times with different seeds and select best modularity ---#######\n",
    "# best_modularity = -1.0\n",
    "# best_partition = None\n",
    "# best_seed = None\n",
    "\n",
    "# seeds = range(1, 101, 1)  # Seeds: 10, 20, ..., 100\n",
    "\n",
    "# for seed in seeds:\n",
    "#     partition = leidenalg.find_partition(G_ig, leidenalg.RBConfigurationVertexPartition, ‹=1.0, seed=seed) # Try 0.8 to 1.5\n",
    "#     modularity = partition.modularity\n",
    "\n",
    "#     print(f\"Seed {seed}: modularity = {modularity:.4f}\")\n",
    "\n",
    "#     if modularity > best_modularity:\n",
    "#         best_modularity = modularity\n",
    "#         best_partition = partition\n",
    "#         best_seed = seed\n",
    "\n",
    "# print(f\"\\nBest seed: {best_seed} with modularity: {best_modularity:.4f}\")"
   ]
  },
  {
   "cell_type": "code",
   "execution_count": 165,
   "id": "7e637ba1-79ca-4059-a290-ae207ea863a0",
   "metadata": {},
   "outputs": [],
   "source": [
    "# --- 4.1 Run Leiden community detection algorithm ---\n",
    "partition = leidenalg.find_partition(G_ig, leidenalg.ModularityVertexPartition, seed=91) # Set fixed random seed\n",
    "\n",
    "# Map each node to its cluster ID\n",
    "leiden_partition = {}\n",
    "for cluster_id, cluster_nodes in enumerate(partition):\n",
    "    for node_index in cluster_nodes:\n",
    "        user_id = G_ig.vs[node_index]['name']  # iGraph preserves original node name\n",
    "        leiden_partition[user_id] = cluster_id + 1 # Shift ID to start from 1"
   ]
  },
  {
   "cell_type": "code",
   "execution_count": 321,
   "id": "3e047398-d64d-4820-a930-41ccdea19ce7",
   "metadata": {},
   "outputs": [],
   "source": [
    "# leiden_partition"
   ]
  },
  {
   "cell_type": "code",
   "execution_count": 166,
   "id": "1f68f01c-7880-4d12-b1e0-6b052c5ed10d",
   "metadata": {},
   "outputs": [
    {
     "data": {
      "text/plain": [
       "0.191718939154232"
      ]
     },
     "execution_count": 166,
     "metadata": {},
     "output_type": "execute_result"
    }
   ],
   "source": [
    "modularity = partition.modularity\n",
    "modularity"
   ]
  },
  {
   "cell_type": "code",
   "execution_count": 167,
   "id": "2177dfd9-a0bb-4918-aa50-6f909e948032",
   "metadata": {},
   "outputs": [],
   "source": [
    "# --- 5. Add cluster labels back to the DataFrame ---\n",
    "_df['Cluster'] = _df['UserID'].map(leiden_partition)"
   ]
  },
  {
   "cell_type": "code",
   "execution_count": 168,
   "id": "c4c93823-e358-452c-b7a5-16234ee0bcbe",
   "metadata": {},
   "outputs": [
    {
     "data": {
      "text/plain": [
       "array([7, 1, 3, 2, 5, 4, 6])"
      ]
     },
     "execution_count": 168,
     "metadata": {},
     "output_type": "execute_result"
    }
   ],
   "source": [
    "_df['Cluster'].unique()"
   ]
  },
  {
   "cell_type": "code",
   "execution_count": 169,
   "id": "61415970-5616-4337-bc07-a0800c574d13",
   "metadata": {},
   "outputs": [],
   "source": [
    "# --- 6. Tag each cluster using top-N most common interests ---\n",
    "\n",
    "top_n = 2  # Change as needed\n",
    "cluster_interests = defaultdict(list)\n",
    "\n",
    "for _, row in _df.iterrows():\n",
    "    cluster = row[\"Cluster\"]\n",
    "    interests = row[\"Interests\"]\n",
    "    if cluster is not None:\n",
    "        cluster_interests[cluster].extend(interests)\n",
    "\n",
    "# Get top interests per cluster and create tag\n",
    "cluster_tags = {\n",
    "    cluster: \" & \".join([i[0] for i in Counter(interests).most_common(top_n)])\n",
    "    for cluster, interests in cluster_interests.items()\n",
    "}\n",
    "\n",
    "# Assign tags to DataFrame\n",
    "_df[\"Cluster_tag\"] = _df[\"Cluster\"].map(cluster_tags)"
   ]
  },
  {
   "cell_type": "code",
   "execution_count": 322,
   "id": "0e7f67df-baeb-4226-a458-d9df47d8ea99",
   "metadata": {},
   "outputs": [
    {
     "data": {
      "text/plain": [
       "{7: 'Nature & Travel',\n",
       " 1: 'Beauty & Business and entrepreneurship',\n",
       " 3: 'Fashion & Gaming',\n",
       " 2: 'DIY and crafts & Travel',\n",
       " 5: 'Music & Fitness',\n",
       " 4: 'Education and learning & Art',\n",
       " 6: 'Cars and automobiles & Parenting and family'}"
      ]
     },
     "execution_count": 322,
     "metadata": {},
     "output_type": "execute_result"
    }
   ],
   "source": [
    "cluster_tags"
   ]
  },
  {
   "cell_type": "code",
   "execution_count": 170,
   "id": "d096aecf-f022-4cf7-b614-6a092bc50006",
   "metadata": {},
   "outputs": [
    {
     "data": {
      "text/html": [
       "<div>\n",
       "<style scoped>\n",
       "    .dataframe tbody tr th:only-of-type {\n",
       "        vertical-align: middle;\n",
       "    }\n",
       "\n",
       "    .dataframe tbody tr th {\n",
       "        vertical-align: top;\n",
       "    }\n",
       "\n",
       "    .dataframe thead th {\n",
       "        text-align: right;\n",
       "    }\n",
       "</style>\n",
       "<table border=\"1\" class=\"dataframe\">\n",
       "  <thead>\n",
       "    <tr style=\"text-align: right;\">\n",
       "      <th></th>\n",
       "      <th>UserID</th>\n",
       "      <th>Name</th>\n",
       "      <th>Gender</th>\n",
       "      <th>DOB</th>\n",
       "      <th>Interests</th>\n",
       "      <th>City</th>\n",
       "      <th>Occupation</th>\n",
       "      <th>Budget (£)</th>\n",
       "      <th>Age</th>\n",
       "      <th>Age Range</th>\n",
       "      <th>Cluster</th>\n",
       "      <th>Cluster_tag</th>\n",
       "    </tr>\n",
       "  </thead>\n",
       "  <tbody>\n",
       "    <tr>\n",
       "      <th>0</th>\n",
       "      <td>75722</td>\n",
       "      <td>Kevin Tabor</td>\n",
       "      <td>Male</td>\n",
       "      <td>1962-09-02</td>\n",
       "      <td>[Nature, Parenting and family]</td>\n",
       "      <td>Liverpool</td>\n",
       "      <td>Project Manager</td>\n",
       "      <td>6376</td>\n",
       "      <td>63</td>\n",
       "      <td>56-65</td>\n",
       "      <td>7</td>\n",
       "      <td>Nature &amp; Travel</td>\n",
       "    </tr>\n",
       "    <tr>\n",
       "      <th>1</th>\n",
       "      <td>80185</td>\n",
       "      <td>Bethany Buckley</td>\n",
       "      <td>Male</td>\n",
       "      <td>1983-07-28</td>\n",
       "      <td>[Business and entrepreneurship]</td>\n",
       "      <td>Stockport</td>\n",
       "      <td>Data Analyst</td>\n",
       "      <td>4205</td>\n",
       "      <td>42</td>\n",
       "      <td>36-45</td>\n",
       "      <td>1</td>\n",
       "      <td>Beauty &amp; Business and entrepreneurship</td>\n",
       "    </tr>\n",
       "    <tr>\n",
       "      <th>2</th>\n",
       "      <td>19865</td>\n",
       "      <td>Marsha Ayala</td>\n",
       "      <td>Male</td>\n",
       "      <td>1958-12-18</td>\n",
       "      <td>[Fashion, DIY and crafts, Outdoor activities]</td>\n",
       "      <td>Bolton</td>\n",
       "      <td>Cleaner</td>\n",
       "      <td>2725</td>\n",
       "      <td>67</td>\n",
       "      <td>66+</td>\n",
       "      <td>3</td>\n",
       "      <td>Fashion &amp; Gaming</td>\n",
       "    </tr>\n",
       "  </tbody>\n",
       "</table>\n",
       "</div>"
      ],
      "text/plain": [
       "   UserID             Name Gender         DOB  \\\n",
       "0   75722      Kevin Tabor   Male  1962-09-02   \n",
       "1   80185  Bethany Buckley   Male  1983-07-28   \n",
       "2   19865     Marsha Ayala   Male  1958-12-18   \n",
       "\n",
       "                                       Interests       City       Occupation  \\\n",
       "0                 [Nature, Parenting and family]  Liverpool  Project Manager   \n",
       "1                [Business and entrepreneurship]  Stockport     Data Analyst   \n",
       "2  [Fashion, DIY and crafts, Outdoor activities]     Bolton          Cleaner   \n",
       "\n",
       "   Budget (£)  Age Age Range  Cluster                             Cluster_tag  \n",
       "0        6376   63     56-65        7                         Nature & Travel  \n",
       "1        4205   42     36-45        1  Beauty & Business and entrepreneurship  \n",
       "2        2725   67       66+        3                        Fashion & Gaming  "
      ]
     },
     "execution_count": 170,
     "metadata": {},
     "output_type": "execute_result"
    }
   ],
   "source": [
    "_df.head(3)"
   ]
  },
  {
   "cell_type": "code",
   "execution_count": 324,
   "id": "036094ba-1cbb-4b24-bdb0-1945245a8c16",
   "metadata": {},
   "outputs": [
    {
     "data": {
      "text/html": [
       "<div>\n",
       "<style scoped>\n",
       "    .dataframe tbody tr th:only-of-type {\n",
       "        vertical-align: middle;\n",
       "    }\n",
       "\n",
       "    .dataframe tbody tr th {\n",
       "        vertical-align: top;\n",
       "    }\n",
       "\n",
       "    .dataframe thead th {\n",
       "        text-align: right;\n",
       "    }\n",
       "</style>\n",
       "<table border=\"1\" class=\"dataframe\">\n",
       "  <thead>\n",
       "    <tr style=\"text-align: right;\">\n",
       "      <th></th>\n",
       "      <th>user_id</th>\n",
       "      <th>name</th>\n",
       "      <th>gender</th>\n",
       "      <th>dob</th>\n",
       "      <th>interests</th>\n",
       "      <th>city</th>\n",
       "      <th>occupation</th>\n",
       "      <th>budget</th>\n",
       "      <th>age</th>\n",
       "      <th>age_range</th>\n",
       "      <th>Cluster</th>\n",
       "      <th>Cluster_tag</th>\n",
       "    </tr>\n",
       "  </thead>\n",
       "  <tbody>\n",
       "    <tr>\n",
       "      <th>4</th>\n",
       "      <td>92992</td>\n",
       "      <td>Robin Garrett</td>\n",
       "      <td>Male</td>\n",
       "      <td>1975-11-26</td>\n",
       "      <td>Travel</td>\n",
       "      <td>Liverpool</td>\n",
       "      <td>Barista</td>\n",
       "      <td>2322</td>\n",
       "      <td>50</td>\n",
       "      <td>46-55</td>\n",
       "      <td>2</td>\n",
       "      <td>DIY and crafts &amp; Travel</td>\n",
       "    </tr>\n",
       "    <tr>\n",
       "      <th>5</th>\n",
       "      <td>76435</td>\n",
       "      <td>Theresa Dominguez</td>\n",
       "      <td>Male</td>\n",
       "      <td>1988-07-26</td>\n",
       "      <td>DIY and crafts</td>\n",
       "      <td>Liverpool</td>\n",
       "      <td>Construction Worker</td>\n",
       "      <td>2815</td>\n",
       "      <td>37</td>\n",
       "      <td>36-45</td>\n",
       "      <td>2</td>\n",
       "      <td>DIY and crafts &amp; Travel</td>\n",
       "    </tr>\n",
       "    <tr>\n",
       "      <th>6</th>\n",
       "      <td>84005</td>\n",
       "      <td>James Gass</td>\n",
       "      <td>Female</td>\n",
       "      <td>1967-10-14</td>\n",
       "      <td>Music, Photography, DIY and crafts, Art, Travel</td>\n",
       "      <td>Stockport</td>\n",
       "      <td>Construction Worker</td>\n",
       "      <td>2755</td>\n",
       "      <td>58</td>\n",
       "      <td>56-65</td>\n",
       "      <td>2</td>\n",
       "      <td>DIY and crafts &amp; Travel</td>\n",
       "    </tr>\n",
       "  </tbody>\n",
       "</table>\n",
       "</div>"
      ],
      "text/plain": [
       "   user_id               name  gender         dob  \\\n",
       "4    92992      Robin Garrett    Male  1975-11-26   \n",
       "5    76435  Theresa Dominguez    Male  1988-07-26   \n",
       "6    84005         James Gass  Female  1967-10-14   \n",
       "\n",
       "                                         interests       city  \\\n",
       "4                                           Travel  Liverpool   \n",
       "5                                   DIY and crafts  Liverpool   \n",
       "6  Music, Photography, DIY and crafts, Art, Travel  Stockport   \n",
       "\n",
       "            occupation  budget  age age_range  Cluster  \\\n",
       "4              Barista    2322   50     46-55        2   \n",
       "5  Construction Worker    2815   37     36-45        2   \n",
       "6  Construction Worker    2755   58     56-65        2   \n",
       "\n",
       "               Cluster_tag  \n",
       "4  DIY and crafts & Travel  \n",
       "5  DIY and crafts & Travel  \n",
       "6  DIY and crafts & Travel  "
      ]
     },
     "execution_count": 324,
     "metadata": {},
     "output_type": "execute_result"
    }
   ],
   "source": [
    "_df[_df['Cluster'] == 2].head(3)"
   ]
  },
  {
   "cell_type": "code",
   "execution_count": 325,
   "id": "b0ef723a-db2f-43ef-8421-392dbe42c212",
   "metadata": {},
   "outputs": [
    {
     "data": {
      "image/png": "[encoded data removed]",
      "text/plain": [
       "<Figure size 1000x700 with 1 Axes>"
      ]
     },
     "metadata": {},
     "output_type": "display_data"
    }
   ],
   "source": [
    "# --- 7. Visualize a sample of the user graph with cluster colors ---\n",
    "\n",
    "# Sample a subset of users for clearer visualization\n",
    "sample_size = 50\n",
    "sampled_users = random.sample(list(user_graph.nodes()), min(sample_size, len(user_graph.nodes())))\n",
    "sampled_graph = user_graph.subgraph(sampled_users)\n",
    "\n",
    "# Extract colors for sampled nodes\n",
    "sampled_colors = [leiden_partition[node] for node in sampled_graph.nodes()]\n",
    "\n",
    "# Plot\n",
    "plt.figure(figsize=(10, 7))\n",
    "pos = nx.spring_layout(sampled_graph, seed=42)\n",
    "nx.draw(\n",
    "    sampled_graph, pos,\n",
    "    node_color=sampled_colors,\n",
    "    with_labels=True,\n",
    "    node_size=600,\n",
    "    cmap=plt.cm.Set3\n",
    ")\n",
    "plt.title(\"Sampled Mutual Users Clusters (Leiden Algorithm)\")\n",
    "plt.show()"
   ]
  },
  {
   "cell_type": "code",
   "execution_count": 174,
   "id": "22f712ab-c2eb-4529-bfe6-9fadb43b665a",
   "metadata": {},
   "outputs": [],
   "source": [
    "_df['Interests'] = _df['Interests'].apply(lambda x: ', '.join(x))"
   ]
  },
  {
   "cell_type": "code",
   "execution_count": 175,
   "id": "55d062ec-84c0-4eb6-886c-acdbdb374c06",
   "metadata": {},
   "outputs": [],
   "source": [
    "_df.rename(columns={'UserID': 'user_id','Gender': 'gender', 'Name': 'name', 'DOB': 'dob', 'Interests': 'interests', 'City': 'city', 'Occupation': 'occupation', 'Budget (£)': 'budget', 'Age': 'age', 'Age Range': 'age_range'}, inplace=True)"
   ]
  },
  {
   "cell_type": "code",
   "execution_count": 176,
   "id": "5d4aa137-996e-47da-9d18-633144a0d8b6",
   "metadata": {},
   "outputs": [],
   "source": [
    "_df.to_csv('clustered_mutuals.csv')"
   ]
  },
  {
   "cell_type": "code",
   "execution_count": 178,
   "id": "e1847616-b413-48bb-a86c-f2fcc799ceca",
   "metadata": {},
   "outputs": [
    {
     "name": "stdout",
     "output_type": "stream",
     "text": [
      "Modularity: 0.1917\n"
     ]
    }
   ],
   "source": [
    "modularity = partition.modularity\n",
    "print(f\"Modularity: {modularity:.4f}\")"
   ]
  },
  {
   "cell_type": "code",
   "execution_count": 179,
   "id": "63d356d7-e69e-4447-8d88-794679da3643",
   "metadata": {},
   "outputs": [
    {
     "name": "stdout",
     "output_type": "stream",
     "text": [
      "{\n",
      "    \"1\": \"Beauty & Business and entrepreneurship\",\n",
      "    \"2\": \"DIY and crafts & Travel\",\n",
      "    \"3\": \"Fashion & Gaming\",\n",
      "    \"4\": \"Education and learning & Art\",\n",
      "    \"5\": \"Music & Fitness\",\n",
      "    \"6\": \"Cars and automobiles & Parenting and family\",\n",
      "    \"7\": \"Nature & Travel\"\n",
      "}\n"
     ]
    }
   ],
   "source": [
    "import json\n",
    "print(json.dumps(cluster_tags, sort_keys=True, indent=4))"
   ]
  },
  {
   "cell_type": "code",
   "execution_count": 292,
   "id": "aac4bc8a-f69e-43f9-a1ea-f85462fd15c6",
   "metadata": {},
   "outputs": [
    {
     "data": {
      "text/html": [
       "<div>\n",
       "<style scoped>\n",
       "    .dataframe tbody tr th:only-of-type {\n",
       "        vertical-align: middle;\n",
       "    }\n",
       "\n",
       "    .dataframe tbody tr th {\n",
       "        vertical-align: top;\n",
       "    }\n",
       "\n",
       "    .dataframe thead th {\n",
       "        text-align: right;\n",
       "    }\n",
       "</style>\n",
       "<table border=\"1\" class=\"dataframe\">\n",
       "  <thead>\n",
       "    <tr style=\"text-align: right;\">\n",
       "      <th></th>\n",
       "      <th>user_id</th>\n",
       "      <th>name</th>\n",
       "      <th>gender</th>\n",
       "      <th>dob</th>\n",
       "      <th>interests</th>\n",
       "      <th>city</th>\n",
       "      <th>occupation</th>\n",
       "      <th>budget</th>\n",
       "      <th>age</th>\n",
       "      <th>age_range</th>\n",
       "      <th>Cluster</th>\n",
       "      <th>Cluster_tag</th>\n",
       "    </tr>\n",
       "  </thead>\n",
       "  <tbody>\n",
       "    <tr>\n",
       "      <th>36</th>\n",
       "      <td>69770</td>\n",
       "      <td>Franklin Mccrory</td>\n",
       "      <td>Male</td>\n",
       "      <td>1968-03-05</td>\n",
       "      <td>Cars and automobiles, Parenting and family</td>\n",
       "      <td>Bolton</td>\n",
       "      <td>Business Consultant</td>\n",
       "      <td>8790</td>\n",
       "      <td>57</td>\n",
       "      <td>56-65</td>\n",
       "      <td>6</td>\n",
       "      <td>Cars and automobiles &amp; Parenting and family</td>\n",
       "    </tr>\n",
       "    <tr>\n",
       "      <th>54</th>\n",
       "      <td>54375</td>\n",
       "      <td>George Greer</td>\n",
       "      <td>Female</td>\n",
       "      <td>1986-07-13</td>\n",
       "      <td>Sports, Cars and automobiles, Science, Finance...</td>\n",
       "      <td>Stockport</td>\n",
       "      <td>Loan Officer</td>\n",
       "      <td>5182</td>\n",
       "      <td>39</td>\n",
       "      <td>36-45</td>\n",
       "      <td>6</td>\n",
       "      <td>Cars and automobiles &amp; Parenting and family</td>\n",
       "    </tr>\n",
       "    <tr>\n",
       "      <th>63</th>\n",
       "      <td>82200</td>\n",
       "      <td>Josephine Jeanlouis</td>\n",
       "      <td>Female</td>\n",
       "      <td>1970-10-22</td>\n",
       "      <td>Cars and automobiles, Parenting and family, Bo...</td>\n",
       "      <td>Manchester</td>\n",
       "      <td>Market Research Analyst</td>\n",
       "      <td>6453</td>\n",
       "      <td>55</td>\n",
       "      <td>56-65</td>\n",
       "      <td>6</td>\n",
       "      <td>Cars and automobiles &amp; Parenting and family</td>\n",
       "    </tr>\n",
       "    <tr>\n",
       "      <th>80</th>\n",
       "      <td>34081</td>\n",
       "      <td>Edward Coffey</td>\n",
       "      <td>Female</td>\n",
       "      <td>1987-02-23</td>\n",
       "      <td>Cars and automobiles, Nature, Finance and inve...</td>\n",
       "      <td>Preston</td>\n",
       "      <td>Public Relations Specialist</td>\n",
       "      <td>6732</td>\n",
       "      <td>38</td>\n",
       "      <td>36-45</td>\n",
       "      <td>6</td>\n",
       "      <td>Cars and automobiles &amp; Parenting and family</td>\n",
       "    </tr>\n",
       "    <tr>\n",
       "      <th>101</th>\n",
       "      <td>88346</td>\n",
       "      <td>Charles Nelson</td>\n",
       "      <td>Male</td>\n",
       "      <td>1979-10-15</td>\n",
       "      <td>Cars and automobiles, Business and entrepreneu...</td>\n",
       "      <td>Manchester</td>\n",
       "      <td>Mechanic</td>\n",
       "      <td>4082</td>\n",
       "      <td>46</td>\n",
       "      <td>46-55</td>\n",
       "      <td>6</td>\n",
       "      <td>Cars and automobiles &amp; Parenting and family</td>\n",
       "    </tr>\n",
       "    <tr>\n",
       "      <th>...</th>\n",
       "      <td>...</td>\n",
       "      <td>...</td>\n",
       "      <td>...</td>\n",
       "      <td>...</td>\n",
       "      <td>...</td>\n",
       "      <td>...</td>\n",
       "      <td>...</td>\n",
       "      <td>...</td>\n",
       "      <td>...</td>\n",
       "      <td>...</td>\n",
       "      <td>...</td>\n",
       "      <td>...</td>\n",
       "    </tr>\n",
       "    <tr>\n",
       "      <th>1452</th>\n",
       "      <td>56632</td>\n",
       "      <td>Donald Payne</td>\n",
       "      <td>Male</td>\n",
       "      <td>1970-01-12</td>\n",
       "      <td>Photography, Finance and investments, Cars and...</td>\n",
       "      <td>Liverpool</td>\n",
       "      <td>Project Manager</td>\n",
       "      <td>4978</td>\n",
       "      <td>55</td>\n",
       "      <td>56-65</td>\n",
       "      <td>6</td>\n",
       "      <td>Cars and automobiles &amp; Parenting and family</td>\n",
       "    </tr>\n",
       "    <tr>\n",
       "      <th>1458</th>\n",
       "      <td>25555</td>\n",
       "      <td>Jimmie Whisler</td>\n",
       "      <td>Female</td>\n",
       "      <td>1998-01-25</td>\n",
       "      <td>Sports, Finance and investments, Sports, Cars ...</td>\n",
       "      <td>Stockport</td>\n",
       "      <td>Financial Analyst</td>\n",
       "      <td>6534</td>\n",
       "      <td>27</td>\n",
       "      <td>26-35</td>\n",
       "      <td>6</td>\n",
       "      <td>Cars and automobiles &amp; Parenting and family</td>\n",
       "    </tr>\n",
       "    <tr>\n",
       "      <th>1467</th>\n",
       "      <td>78602</td>\n",
       "      <td>Todd Kim</td>\n",
       "      <td>Female</td>\n",
       "      <td>1966-05-12</td>\n",
       "      <td>Cooking, Movies, Cars and automobiles</td>\n",
       "      <td>Stockport</td>\n",
       "      <td>Corporate Trainer</td>\n",
       "      <td>7212</td>\n",
       "      <td>59</td>\n",
       "      <td>56-65</td>\n",
       "      <td>6</td>\n",
       "      <td>Cars and automobiles &amp; Parenting and family</td>\n",
       "    </tr>\n",
       "    <tr>\n",
       "      <th>1471</th>\n",
       "      <td>98205</td>\n",
       "      <td>Sara Hunter</td>\n",
       "      <td>Female</td>\n",
       "      <td>1996-06-08</td>\n",
       "      <td>Photography, Cars and automobiles, Food and di...</td>\n",
       "      <td>Preston</td>\n",
       "      <td>Quality Assurance Analyst</td>\n",
       "      <td>4909</td>\n",
       "      <td>29</td>\n",
       "      <td>26-35</td>\n",
       "      <td>6</td>\n",
       "      <td>Cars and automobiles &amp; Parenting and family</td>\n",
       "    </tr>\n",
       "    <tr>\n",
       "      <th>1490</th>\n",
       "      <td>2087</td>\n",
       "      <td>Helen Lancaster</td>\n",
       "      <td>Male</td>\n",
       "      <td>1958-10-22</td>\n",
       "      <td>Business and entrepreneurship, Cars and automo...</td>\n",
       "      <td>Stockport</td>\n",
       "      <td>Quality Assurance Analyst</td>\n",
       "      <td>5336</td>\n",
       "      <td>67</td>\n",
       "      <td>66+</td>\n",
       "      <td>6</td>\n",
       "      <td>Cars and automobiles &amp; Parenting and family</td>\n",
       "    </tr>\n",
       "  </tbody>\n",
       "</table>\n",
       "<p>133 rows × 12 columns</p>\n",
       "</div>"
      ],
      "text/plain": [
       "      user_id                 name  gender         dob  \\\n",
       "36      69770     Franklin Mccrory    Male  1968-03-05   \n",
       "54      54375         George Greer  Female  1986-07-13   \n",
       "63      82200  Josephine Jeanlouis  Female  1970-10-22   \n",
       "80      34081        Edward Coffey  Female  1987-02-23   \n",
       "101     88346       Charles Nelson    Male  1979-10-15   \n",
       "...       ...                  ...     ...         ...   \n",
       "1452    56632         Donald Payne    Male  1970-01-12   \n",
       "1458    25555       Jimmie Whisler  Female  1998-01-25   \n",
       "1467    78602             Todd Kim  Female  1966-05-12   \n",
       "1471    98205          Sara Hunter  Female  1996-06-08   \n",
       "1490     2087      Helen Lancaster    Male  1958-10-22   \n",
       "\n",
       "                                              interests        city  \\\n",
       "36           Cars and automobiles, Parenting and family      Bolton   \n",
       "54    Sports, Cars and automobiles, Science, Finance...   Stockport   \n",
       "63    Cars and automobiles, Parenting and family, Bo...  Manchester   \n",
       "80    Cars and automobiles, Nature, Finance and inve...     Preston   \n",
       "101   Cars and automobiles, Business and entrepreneu...  Manchester   \n",
       "...                                                 ...         ...   \n",
       "1452  Photography, Finance and investments, Cars and...   Liverpool   \n",
       "1458  Sports, Finance and investments, Sports, Cars ...   Stockport   \n",
       "1467              Cooking, Movies, Cars and automobiles   Stockport   \n",
       "1471  Photography, Cars and automobiles, Food and di...     Preston   \n",
       "1490  Business and entrepreneurship, Cars and automo...   Stockport   \n",
       "\n",
       "                       occupation  budget  age age_range  Cluster  \\\n",
       "36            Business Consultant    8790   57     56-65        6   \n",
       "54                   Loan Officer    5182   39     36-45        6   \n",
       "63        Market Research Analyst    6453   55     56-65        6   \n",
       "80    Public Relations Specialist    6732   38     36-45        6   \n",
       "101                      Mechanic    4082   46     46-55        6   \n",
       "...                           ...     ...  ...       ...      ...   \n",
       "1452              Project Manager    4978   55     56-65        6   \n",
       "1458            Financial Analyst    6534   27     26-35        6   \n",
       "1467            Corporate Trainer    7212   59     56-65        6   \n",
       "1471    Quality Assurance Analyst    4909   29     26-35        6   \n",
       "1490    Quality Assurance Analyst    5336   67       66+        6   \n",
       "\n",
       "                                      Cluster_tag  \n",
       "36    Cars and automobiles & Parenting and family  \n",
       "54    Cars and automobiles & Parenting and family  \n",
       "63    Cars and automobiles & Parenting and family  \n",
       "80    Cars and automobiles & Parenting and family  \n",
       "101   Cars and automobiles & Parenting and family  \n",
       "...                                           ...  \n",
       "1452  Cars and automobiles & Parenting and family  \n",
       "1458  Cars and automobiles & Parenting and family  \n",
       "1467  Cars and automobiles & Parenting and family  \n",
       "1471  Cars and automobiles & Parenting and family  \n",
       "1490  Cars and automobiles & Parenting and family  \n",
       "\n",
       "[133 rows x 12 columns]"
      ]
     },
     "execution_count": 292,
     "metadata": {},
     "output_type": "execute_result"
    }
   ],
   "source": [
    "_df[_df['Cluster'] == 6]"
   ]
  },
  {
   "cell_type": "code",
   "execution_count": 180,
   "id": "649201d2-5b45-4a37-ad23-318848dc2beb",
   "metadata": {},
   "outputs": [],
   "source": []
  },
  {
   "cell_type": "code",
   "execution_count": 182,
   "id": "b1554945-7d67-44d8-92c9-ff7f33269767",
   "metadata": {},
   "outputs": [],
   "source": [
    "# # Save user graph\n",
    "# with open(\"user_graph.pkl\", \"wb\") as f:\n",
    "#     pickle.dump(user_graph, f)\n",
    "\n",
    "# Save bipartite graph\n",
    "with open(\"bipartite_graph.pkl\", \"wb\") as f:\n",
    "    pickle.dump(B, f)\n",
    "\n",
    "# Save Leiden partition (cluster assignments)\n",
    "with open(\"leiden_partition.pkl\", \"wb\") as f:\n",
    "    pickle.dump(leiden_partition, f)\n",
    "\n",
    "# Save cluster tags\n",
    "with open(\"cluster_tags.pkl\", \"wb\") as f:\n",
    "    pickle.dump(cluster_tags, f)"
   ]
  },
  {
   "cell_type": "code",
   "execution_count": null,
   "id": "311e55bd-1f68-4d28-83bf-09caf6b09f9e",
   "metadata": {},
   "outputs": [],
   "source": []
  },
  {
   "cell_type": "code",
   "execution_count": 302,
   "id": "96a59e3b-d4cc-4008-9a7a-e21dd3441eb9",
   "metadata": {},
   "outputs": [
    {
     "name": "stdout",
     "output_type": "stream",
     "text": [
      "Cluster sizes: Counter({1: 354, 2: 305, 3: 281, 4: 177, 5: 143, 6: 133, 7: 107})\n"
     ]
    }
   ],
   "source": [
    "c = Counter(leiden_partition.values())\n",
    "print(\"Cluster sizes:\", c)"
   ]
  },
  {
   "cell_type": "code",
   "execution_count": 303,
   "id": "c648036f-7163-45dd-8e67-85f603b1e4ab",
   "metadata": {},
   "outputs": [],
   "source": [
    "count_per_group = dict(c)"
   ]
  },
  {
   "cell_type": "code",
   "execution_count": 304,
   "id": "4b7244f9-75e8-467c-8fb3-1b7bf53b67ec",
   "metadata": {},
   "outputs": [
    {
     "data": {
      "text/plain": [
       "{1: 354, 2: 305, 3: 281, 4: 177, 5: 143, 6: 133, 7: 107}"
      ]
     },
     "execution_count": 304,
     "metadata": {},
     "output_type": "execute_result"
    }
   ],
   "source": [
    "count_per_group"
   ]
  },
  {
   "cell_type": "code",
   "execution_count": 309,
   "id": "36a24a40-ca8b-4429-a9c5-a6eb9b97127a",
   "metadata": {},
   "outputs": [],
   "source": [
    "count_df = pd.DataFrame.from_dict(count_per_group, orient='index', columns=['count']).reset_index()\n",
    "count_df.columns = ['group_num', 'count']"
   ]
  },
  {
   "cell_type": "code",
   "execution_count": 310,
   "id": "4aa0ac0b-0b23-499d-bb26-863118f2215a",
   "metadata": {},
   "outputs": [
    {
     "data": {
      "text/html": [
       "<div>\n",
       "<style scoped>\n",
       "    .dataframe tbody tr th:only-of-type {\n",
       "        vertical-align: middle;\n",
       "    }\n",
       "\n",
       "    .dataframe tbody tr th {\n",
       "        vertical-align: top;\n",
       "    }\n",
       "\n",
       "    .dataframe thead th {\n",
       "        text-align: right;\n",
       "    }\n",
       "</style>\n",
       "<table border=\"1\" class=\"dataframe\">\n",
       "  <thead>\n",
       "    <tr style=\"text-align: right;\">\n",
       "      <th></th>\n",
       "      <th>group_num</th>\n",
       "      <th>count</th>\n",
       "    </tr>\n",
       "  </thead>\n",
       "  <tbody>\n",
       "    <tr>\n",
       "      <th>0</th>\n",
       "      <td>1</td>\n",
       "      <td>354</td>\n",
       "    </tr>\n",
       "    <tr>\n",
       "      <th>1</th>\n",
       "      <td>2</td>\n",
       "      <td>305</td>\n",
       "    </tr>\n",
       "    <tr>\n",
       "      <th>2</th>\n",
       "      <td>3</td>\n",
       "      <td>281</td>\n",
       "    </tr>\n",
       "    <tr>\n",
       "      <th>3</th>\n",
       "      <td>4</td>\n",
       "      <td>177</td>\n",
       "    </tr>\n",
       "    <tr>\n",
       "      <th>4</th>\n",
       "      <td>5</td>\n",
       "      <td>143</td>\n",
       "    </tr>\n",
       "    <tr>\n",
       "      <th>5</th>\n",
       "      <td>6</td>\n",
       "      <td>133</td>\n",
       "    </tr>\n",
       "    <tr>\n",
       "      <th>6</th>\n",
       "      <td>7</td>\n",
       "      <td>107</td>\n",
       "    </tr>\n",
       "  </tbody>\n",
       "</table>\n",
       "</div>"
      ],
      "text/plain": [
       "   group_num  count\n",
       "0          1    354\n",
       "1          2    305\n",
       "2          3    281\n",
       "3          4    177\n",
       "4          5    143\n",
       "5          6    133\n",
       "6          7    107"
      ]
     },
     "execution_count": 310,
     "metadata": {},
     "output_type": "execute_result"
    }
   ],
   "source": [
    "count_df"
   ]
  },
  {
   "cell_type": "code",
   "execution_count": 318,
   "id": "17d01c96-a822-4be6-8dc6-972909809920",
   "metadata": {},
   "outputs": [
    {
     "name": "stderr",
     "output_type": "stream",
     "text": [
      "/var/folders/xt/qdtg9n0d45qbj757bpskpg5m0000gn/T/ipykernel_227/2832577892.py:2: FutureWarning: \n",
      "\n",
      "Passing `palette` without assigning `hue` is deprecated and will be removed in v0.14.0. Assign the `x` variable to `hue` and set `legend=False` for the same effect.\n",
      "\n",
      "  sns.barplot(x='group_num', y='count', data=count_df, palette='viridis')\n"
     ]
    },
    {
     "data": {
      "image/png": "[encoded data removed]",
      "text/plain": [
       "<Figure size 800x500 with 1 Axes>"
      ]
     },
     "metadata": {},
     "output_type": "display_data"
    }
   ],
   "source": [
    "plt.figure(figsize=(8, 5))\n",
    "sns.barplot(x='group_num', y='count', data=count_df, palette='viridis')\n",
    "plt.xlabel('Group Number')\n",
    "plt.ylabel('User Count')\n",
    "plt.title('User Distribution Across Groups')\n",
    "plt.tight_layout()\n",
    "plt.show()"
   ]
  },
  {
   "cell_type": "code",
   "execution_count": null,
   "id": "93cdc2ae-fdc8-4739-802a-ba6e9b1d17e9",
   "metadata": {},
   "outputs": [],
   "source": []
  },
  {
   "cell_type": "code",
   "execution_count": null,
   "id": "daecb2eb-ede3-447d-9b97-0ff436b15055",
   "metadata": {},
   "outputs": [],
   "source": [
    "# Clean and parse the Interests column into a list\n",
    "# _df['Interests'] = _df['Interests'].apply(lambda x: [i.strip().strip(\"'\") for i in x.split(',')])"
   ]
  },
  {
   "cell_type": "code",
   "execution_count": 143,
   "id": "3774ff6a-0c96-4b32-af44-f68ad0e1672f",
   "metadata": {},
   "outputs": [],
   "source": [
    "# # Create a bipartite graph (users <-> interests)\n",
    "# B = nx.Graph()\n",
    "\n",
    "# # Add users and interests as nodes\n",
    "# for index, row in _df.iterrows():\n",
    "#     user_id = row['UserID']\n",
    "#     B.add_node(user_id, bipartite=0)  # Users layer\n",
    "#     for interest in row['Interests']:\n",
    "#         B.add_node(interest, bipartite=1)  # Interests layer\n",
    "#         B.add_edge(user_id, interest)\n",
    "\n",
    "# # Get user nodes\n",
    "# # user_nodes = [n for n, d in B.nodes(data=True) if d['bipartite'] == 0]\n",
    "# user_nodes = sorted([n for n, d in B.nodes(data=True) if d['bipartite'] == 0])\n",
    "\n",
    "# #Project bipartite graph to user-user graph based on shared interests\n",
    "# user_graph = nx.bipartite.weighted_projected_graph(B, user_nodes)"
   ]
  },
  {
   "cell_type": "code",
   "execution_count": 130,
   "id": "e6307dcd-a81e-48a2-a6f4-82b6c0703349",
   "metadata": {},
   "outputs": [],
   "source": [
    "# import igraph as ig\n",
    "# import leidenalg\n",
    "\n",
    "# # Step 1: Convert NetworkX user_graph to igraph\n",
    "# nx_to_ig_mapping = {node: idx for idx, node in enumerate(user_graph.nodes())}\n",
    "# ig_to_nx_mapping = {idx: node for node, idx in nx_to_ig_mapping.items()}\n",
    "\n",
    "# edges = [(nx_to_ig_mapping[u], nx_to_ig_mapping[v], w['weight']) for u, v, w in user_graph.edges(data=True)]\n",
    "\n",
    "# g = ig.Graph()\n",
    "# g.add_vertices(len(user_graph.nodes()))\n",
    "# g.add_edges([(u, v) for u, v, _ in edges])\n",
    "# g.es['weight'] = [w for _, _, w in edges]\n",
    "\n",
    "# # Step 2: Apply Leiden algorithm\n",
    "# partition = leidenalg.find_partition(g, leidenalg.ModularityVertexPartition, weights='weight', seed=42) # Set fixed random seed\n",
    "\n",
    "# # Step 3: Convert partition to user_id -> cluster mapping\n",
    "# leiden_partition = {}\n",
    "# for cluster_id, cluster in enumerate(partition):\n",
    "#     for ig_node_id in cluster:\n",
    "#         user_id = ig_to_nx_mapping[ig_node_id]\n",
    "#         leiden_partition[user_id] = cluster_id\n",
    "\n",
    "# # Step 4: Add cluster labels back to your original DataFrame\n",
    "# _df['Cluster'] = _df['UserID'].map(leiden_partition)\n",
    "\n",
    "# # Step 5: Generate cluster tags like before\n",
    "# from collections import defaultdict, Counter\n",
    "\n",
    "# top_n = 2\n",
    "# cluster_interests = defaultdict(list)\n",
    "\n",
    "# for _, row in _df.iterrows():\n",
    "#     user_id = row[\"UserID\"]\n",
    "#     cluster = leiden_partition.get(user_id)\n",
    "#     interests = row[\"Interests\"]\n",
    "#     if cluster is not None:\n",
    "#         cluster_interests[cluster].extend(interests)\n",
    "\n",
    "# cluster_tags = {}\n",
    "# for cluster, all_interests in cluster_interests.items():\n",
    "#     top_interests = [x[0] for x in Counter(all_interests).most_common(top_n)]\n",
    "#     tag = \" & \".join(top_interests)\n",
    "#     cluster_tags[cluster] = tag\n",
    "\n",
    "# _df[\"Cluster_tag\"] = _df[\"Cluster\"].map(cluster_tags)\n"
   ]
  }
 ],
 "metadata": {
  "kernelspec": {
   "display_name": "Python 3 (ipykernel)",
   "language": "python",
   "name": "python3"
  },
  "language_info": {
   "codemirror_mode": {
    "name": "ipython",
    "version": 3
   },
   "file_extension": ".py",
   "mimetype": "text/x-python",
   "name": "python",
   "nbconvert_exporter": "python",
   "pygments_lexer": "ipython3",
   "version": "3.12.9"
  }
 },
 "nbformat": 4,
 "nbformat_minor": 5
}
